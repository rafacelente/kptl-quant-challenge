{
 "cells": [
  {
   "cell_type": "markdown",
   "metadata": {},
   "source": [
    "# KPTL Quant Challenge - Modelling\n",
    "\n",
    "*Author: Rafael Celente*"
   ]
  },
  {
   "cell_type": "markdown",
   "metadata": {},
   "source": [
    "Os feedbacks são:\n",
    "- Tá bem bom\n",
    "- Adicionar mais discussões sobre o resultado do modelo pode ser benéfico, explicando o que é a ROC, o que significa a matriz de confusão e o que é o erro de tipo 1 e tipo 2 nesse caso\n",
    "- Discussão sobre o problema, fala que modelar se vai ser long ou short não é o melhor, o melhor é maximizar retorno e tem jeitos x, y e z de fazer isso (tem uns algoritmos já prontos que ce pode citar, mas em resumo é cê entrar no mínimo e sair no máximo). Ou vender no máximo e comprar no mínimo\n",
    "- Feature Engineering ( olha se tem Missing values, outlier, a distribuição das features etc, vê se tem como adicionar Feature categorica)\n",
    "- Hyperparameter tuning"
   ]
  },
  {
   "cell_type": "markdown",
   "metadata": {},
   "source": [
    "## Part 0: Introduction\n",
    "\n",
    "Our goal in this challenge is to analyze and select the best classifications to execute our trading strategies based on a primary labelling model. A primary model has already been built (`side_labels.csv`), which generated long (1) and short (-1) labels. For this challenge, we shall apply different machine learning techniques to create a trading machine that performs on the sides on that have been given. Another dataset (`btc.csv`) has also been given with Bitcoin's OHLCV historic data to extract techical indicators for more features for our model. \n",
    "\n",
    "In this notebook we will cover first a data cleaning and overall analysis. Next, we will set our performance indicators and set a baseline of our models using a Dummy Classifier and a Random Forest with only the price as our features. Finally, we will use a technical analysis library to generate technical indicators to feed more features to our model and compare against our baselines. We also use a XGBoost to compare against RF models."
   ]
  },
  {
   "cell_type": "markdown",
   "metadata": {},
   "source": [
    "\n",
    "\n",
    "## Part 1: Data cleaning and  normalization\n"
   ]
  },
  {
   "cell_type": "markdown",
   "metadata": {},
   "source": [
    "Libraries and utilities import"
   ]
  },
  {
   "cell_type": "code",
   "execution_count": 1,
   "metadata": {
    "scrolled": true
   },
   "outputs": [
    {
     "name": "stderr",
     "output_type": "stream",
     "text": [
      "/home/rafa/anaconda3/lib/python3.7/site-packages/pandas/compat/_optional.py:138: UserWarning: Pandas requires version '2.7.0' or newer of 'numexpr' (version '2.6.9' currently installed).\n",
      "  warnings.warn(msg, UserWarning)\n",
      "/home/rafa/anaconda3/lib/python3.7/site-packages/statsmodels/tools/_testing.py:19: FutureWarning: pandas.util.testing is deprecated. Use the functions in the public API at pandas.testing instead.\n",
      "  import pandas.util.testing as tm\n"
     ]
    }
   ],
   "source": [
    "%matplotlib inline\n",
    "import pandas as pd\n",
    "import numpy as np\n",
    "import pandas_ta as ta\n",
    "from pandas.tseries.offsets import DateOffset\n",
    "import matplotlib.pyplot as plt\n",
    "import matplotlib.dates as dates\n",
    "import seaborn as sns\n",
    "import datetime\n",
    "import warnings\n",
    "import plotly\n",
    "import plotly.graph_objects as go\n",
    "from plotly.subplots import make_subplots\n",
    "from sklearn.utils import resample\n",
    "from sklearn.utils import shuffle\n",
    "from sklearn.tree import DecisionTreeClassifier\n",
    "from sklearn.ensemble import RandomForestClassifier, RandomForestRegressor, BaggingClassifier\n",
    "from sklearn.linear_model import LogisticRegression\n",
    "from sklearn.naive_bayes import GaussianNB\n",
    "from sklearn.neighbors import KNeighborsClassifier\n",
    "from sklearn.ensemble import RandomForestClassifier\n",
    "from sklearn.model_selection import train_test_split\n",
    "from sklearn.metrics import classification_report\n",
    "from sklearn.metrics import confusion_matrix\n",
    "from sklearn.metrics import f1_score\n",
    "from sklearn.metrics import accuracy_score\n",
    "from sklearn.metrics import roc_curve, auc\n",
    "from sklearn.dummy import DummyClassifier\n",
    "warnings.filterwarnings('ignore')\n",
    "datetime.datetime.strptime\n",
    "sns.set(style=\"darkgrid\")"
   ]
  },
  {
   "cell_type": "markdown",
   "metadata": {},
   "source": [
    "Importing `side_labels.csv` dataframe."
   ]
  },
  {
   "cell_type": "code",
   "execution_count": 2,
   "metadata": {},
   "outputs": [],
   "source": [
    "side_labels = pd.read_csv('side_labels.csv')\n",
    "side_labels['timestamp'] = pd.to_datetime(side_labels['timestamp'])\n",
    "side_labels = side_labels.set_index('timestamp')"
   ]
  },
  {
   "cell_type": "markdown",
   "metadata": {},
   "source": [
    "Importing `btc.csv` dataframe."
   ]
  },
  {
   "cell_type": "code",
   "execution_count": 3,
   "metadata": {},
   "outputs": [],
   "source": [
    "btc = pd.read_csv('btc.csv')\n",
    "btc['timestamp'] = pd.to_datetime(btc['timestamp'])\n",
    "btc = btc.set_index('timestamp')"
   ]
  },
  {
   "cell_type": "code",
   "execution_count": 4,
   "metadata": {
    "scrolled": true
   },
   "outputs": [
    {
     "data": {
      "text/html": [
       "<div>\n",
       "<style scoped>\n",
       "    .dataframe tbody tr th:only-of-type {\n",
       "        vertical-align: middle;\n",
       "    }\n",
       "\n",
       "    .dataframe tbody tr th {\n",
       "        vertical-align: top;\n",
       "    }\n",
       "\n",
       "    .dataframe thead th {\n",
       "        text-align: right;\n",
       "    }\n",
       "</style>\n",
       "<table border=\"1\" class=\"dataframe\">\n",
       "  <thead>\n",
       "    <tr style=\"text-align: right;\">\n",
       "      <th></th>\n",
       "      <th>ret</th>\n",
       "      <th>side</th>\n",
       "    </tr>\n",
       "    <tr>\n",
       "      <th>timestamp</th>\n",
       "      <th></th>\n",
       "      <th></th>\n",
       "    </tr>\n",
       "  </thead>\n",
       "  <tbody>\n",
       "    <tr>\n",
       "      <th>2016-09-03 19:25:00</th>\n",
       "      <td>0.011372</td>\n",
       "      <td>1.0</td>\n",
       "    </tr>\n",
       "    <tr>\n",
       "      <th>2016-09-03 19:40:00</th>\n",
       "      <td>0.007597</td>\n",
       "      <td>1.0</td>\n",
       "    </tr>\n",
       "    <tr>\n",
       "      <th>2016-09-11 19:20:00</th>\n",
       "      <td>-0.033881</td>\n",
       "      <td>-1.0</td>\n",
       "    </tr>\n",
       "    <tr>\n",
       "      <th>2016-09-11 19:30:00</th>\n",
       "      <td>0.009345</td>\n",
       "      <td>1.0</td>\n",
       "    </tr>\n",
       "    <tr>\n",
       "      <th>2016-09-11 19:35:00</th>\n",
       "      <td>-0.000545</td>\n",
       "      <td>-1.0</td>\n",
       "    </tr>\n",
       "  </tbody>\n",
       "</table>\n",
       "</div>"
      ],
      "text/plain": [
       "                          ret  side\n",
       "timestamp                          \n",
       "2016-09-03 19:25:00  0.011372   1.0\n",
       "2016-09-03 19:40:00  0.007597   1.0\n",
       "2016-09-11 19:20:00 -0.033881  -1.0\n",
       "2016-09-11 19:30:00  0.009345   1.0\n",
       "2016-09-11 19:35:00 -0.000545  -1.0"
      ]
     },
     "execution_count": 4,
     "metadata": {},
     "output_type": "execute_result"
    }
   ],
   "source": [
    "side_labels.head()"
   ]
  },
  {
   "cell_type": "markdown",
   "metadata": {},
   "source": [
    "### Part 1.1 Analyzing the dataset\n",
    "\n",
    "First let's take a look at how our dataset behaves and map what changes should we apply to improve the model's performance. "
   ]
  },
  {
   "cell_type": "code",
   "execution_count": 5,
   "metadata": {
    "scrolled": false
   },
   "outputs": [
    {
     "data": {
      "text/plain": [
       " 1.0    11771\n",
       "-1.0    10929\n",
       " 0.0        1\n",
       "Name: side, dtype: int64"
      ]
     },
     "execution_count": 5,
     "metadata": {},
     "output_type": "execute_result"
    }
   ],
   "source": [
    "side_labels.side.value_counts()"
   ]
  },
  {
   "cell_type": "markdown",
   "metadata": {},
   "source": [
    "Looking at the data, we see one case in which the model outputed a side 0, which is not normal since our model should be strictly binary. Let's filter this outlier and look at the metrics."
   ]
  },
  {
   "cell_type": "code",
   "execution_count": 6,
   "metadata": {},
   "outputs": [
    {
     "data": {
      "text/plain": [
       " 1.0    11771\n",
       "-1.0    10929\n",
       "Name: side, dtype: int64"
      ]
     },
     "execution_count": 6,
     "metadata": {},
     "output_type": "execute_result"
    }
   ],
   "source": [
    "side_labels = side_labels[side_labels['side'] != 0]\n",
    "side_labels.side.value_counts()"
   ]
  },
  {
   "cell_type": "markdown",
   "metadata": {},
   "source": [
    "We can see that our classes are not strictly balanced, as we have more instances of a buy trigger than a sell trigger. Imbalaced classes may induce a bias in our classification, skewing the output towards the majority class."
   ]
  },
  {
   "cell_type": "code",
   "execution_count": 7,
   "metadata": {
    "scrolled": true
   },
   "outputs": [
    {
     "data": {
      "text/plain": [
       "1.0770427303504437"
      ]
     },
     "execution_count": 7,
     "metadata": {},
     "output_type": "execute_result"
    }
   ],
   "source": [
    "side_labels.side.value_counts()[1]/side_labels.side.value_counts()[-1]"
   ]
  },
  {
   "cell_type": "markdown",
   "metadata": {},
   "source": [
    "However, this imbalace is very small (1.077:1). Usually, imbalace may present a problem in datasets in which classes have an imbalace ratio of 2:1 or above."
   ]
  },
  {
   "cell_type": "markdown",
   "metadata": {},
   "source": [
    "Let's also take a look at how the indexes are presented. Maybe there are a few instances in which a label is not indexed correctly or a value is null, which will influence our model."
   ]
  },
  {
   "cell_type": "code",
   "execution_count": 8,
   "metadata": {},
   "outputs": [
    {
     "data": {
      "text/plain": [
       "False"
      ]
     },
     "execution_count": 8,
     "metadata": {},
     "output_type": "execute_result"
    }
   ],
   "source": [
    "side_labels.isnull().values.any()"
   ]
  },
  {
   "cell_type": "code",
   "execution_count": 9,
   "metadata": {},
   "outputs": [
    {
     "data": {
      "text/plain": [
       "True"
      ]
     },
     "execution_count": 9,
     "metadata": {},
     "output_type": "execute_result"
    }
   ],
   "source": [
    "btc.isnull().values.any()"
   ]
  },
  {
   "cell_type": "markdown",
   "metadata": {},
   "source": [
    "Seems that a few data points on the Bitcoin dataset are missing. Let's take a further look."
   ]
  },
  {
   "cell_type": "code",
   "execution_count": 10,
   "metadata": {
    "scrolled": true
   },
   "outputs": [
    {
     "data": {
      "text/plain": [
       "close  open   high   low    volume\n",
       "False  False  False  False  False     554967\n",
       "True   True   True   True   False       9801\n",
       "dtype: int64"
      ]
     },
     "execution_count": 10,
     "metadata": {},
     "output_type": "execute_result"
    }
   ],
   "source": [
    "btc.isnull().value_counts()"
   ]
  },
  {
   "cell_type": "markdown",
   "metadata": {},
   "source": [
    "We have 9801 data points which have no pricing information whatsoever. Let's see if any of those points share an index with the labels."
   ]
  },
  {
   "cell_type": "code",
   "execution_count": 11,
   "metadata": {},
   "outputs": [],
   "source": [
    "nan_values = btc.loc[btc['close'].isnull() == True]"
   ]
  },
  {
   "cell_type": "code",
   "execution_count": 12,
   "metadata": {
    "scrolled": false
   },
   "outputs": [
    {
     "data": {
      "text/plain": [
       "False"
      ]
     },
     "execution_count": 12,
     "metadata": {},
     "output_type": "execute_result"
    }
   ],
   "source": [
    "nan_values.index.values in side_labels.index.values"
   ]
  },
  {
   "cell_type": "markdown",
   "metadata": {},
   "source": [
    "No values that return a null value are in our labels."
   ]
  },
  {
   "cell_type": "markdown",
   "metadata": {},
   "source": [
    "Let's also change our labels to 0 and 1 to facilitate handling with a few packages we will use (such as XGBoost that doesn't accept negative labels"
   ]
  },
  {
   "cell_type": "code",
   "execution_count": 13,
   "metadata": {},
   "outputs": [
    {
     "data": {
      "text/html": [
       "<div>\n",
       "<style scoped>\n",
       "    .dataframe tbody tr th:only-of-type {\n",
       "        vertical-align: middle;\n",
       "    }\n",
       "\n",
       "    .dataframe tbody tr th {\n",
       "        vertical-align: top;\n",
       "    }\n",
       "\n",
       "    .dataframe thead th {\n",
       "        text-align: right;\n",
       "    }\n",
       "</style>\n",
       "<table border=\"1\" class=\"dataframe\">\n",
       "  <thead>\n",
       "    <tr style=\"text-align: right;\">\n",
       "      <th></th>\n",
       "      <th>ret</th>\n",
       "      <th>side</th>\n",
       "    </tr>\n",
       "    <tr>\n",
       "      <th>timestamp</th>\n",
       "      <th></th>\n",
       "      <th></th>\n",
       "    </tr>\n",
       "  </thead>\n",
       "  <tbody>\n",
       "    <tr>\n",
       "      <th>2016-09-03 19:25:00</th>\n",
       "      <td>0.011372</td>\n",
       "      <td>1.0</td>\n",
       "    </tr>\n",
       "    <tr>\n",
       "      <th>2016-09-03 19:40:00</th>\n",
       "      <td>0.007597</td>\n",
       "      <td>1.0</td>\n",
       "    </tr>\n",
       "    <tr>\n",
       "      <th>2016-09-11 19:20:00</th>\n",
       "      <td>-0.033881</td>\n",
       "      <td>0.0</td>\n",
       "    </tr>\n",
       "    <tr>\n",
       "      <th>2016-09-11 19:30:00</th>\n",
       "      <td>0.009345</td>\n",
       "      <td>1.0</td>\n",
       "    </tr>\n",
       "    <tr>\n",
       "      <th>2016-09-11 19:35:00</th>\n",
       "      <td>-0.000545</td>\n",
       "      <td>0.0</td>\n",
       "    </tr>\n",
       "    <tr>\n",
       "      <th>2016-09-11 20:10:00</th>\n",
       "      <td>0.008423</td>\n",
       "      <td>1.0</td>\n",
       "    </tr>\n",
       "    <tr>\n",
       "      <th>2016-09-21 00:00:00</th>\n",
       "      <td>0.009991</td>\n",
       "      <td>1.0</td>\n",
       "    </tr>\n",
       "    <tr>\n",
       "      <th>2016-09-21 00:05:00</th>\n",
       "      <td>-0.001646</td>\n",
       "      <td>0.0</td>\n",
       "    </tr>\n",
       "    <tr>\n",
       "      <th>2016-10-11 04:15:00</th>\n",
       "      <td>-0.007224</td>\n",
       "      <td>0.0</td>\n",
       "    </tr>\n",
       "    <tr>\n",
       "      <th>2016-10-22 16:20:00</th>\n",
       "      <td>0.006216</td>\n",
       "      <td>1.0</td>\n",
       "    </tr>\n",
       "    <tr>\n",
       "      <th>2016-10-27 01:10:00</th>\n",
       "      <td>0.005850</td>\n",
       "      <td>1.0</td>\n",
       "    </tr>\n",
       "    <tr>\n",
       "      <th>2016-10-29 15:45:00</th>\n",
       "      <td>0.006390</td>\n",
       "      <td>1.0</td>\n",
       "    </tr>\n",
       "    <tr>\n",
       "      <th>2016-10-29 21:25:00</th>\n",
       "      <td>0.006626</td>\n",
       "      <td>1.0</td>\n",
       "    </tr>\n",
       "    <tr>\n",
       "      <th>2016-10-30 01:40:00</th>\n",
       "      <td>-0.009225</td>\n",
       "      <td>0.0</td>\n",
       "    </tr>\n",
       "    <tr>\n",
       "      <th>2016-10-30 02:05:00</th>\n",
       "      <td>0.008074</td>\n",
       "      <td>1.0</td>\n",
       "    </tr>\n",
       "  </tbody>\n",
       "</table>\n",
       "</div>"
      ],
      "text/plain": [
       "                          ret  side\n",
       "timestamp                          \n",
       "2016-09-03 19:25:00  0.011372   1.0\n",
       "2016-09-03 19:40:00  0.007597   1.0\n",
       "2016-09-11 19:20:00 -0.033881   0.0\n",
       "2016-09-11 19:30:00  0.009345   1.0\n",
       "2016-09-11 19:35:00 -0.000545   0.0\n",
       "2016-09-11 20:10:00  0.008423   1.0\n",
       "2016-09-21 00:00:00  0.009991   1.0\n",
       "2016-09-21 00:05:00 -0.001646   0.0\n",
       "2016-10-11 04:15:00 -0.007224   0.0\n",
       "2016-10-22 16:20:00  0.006216   1.0\n",
       "2016-10-27 01:10:00  0.005850   1.0\n",
       "2016-10-29 15:45:00  0.006390   1.0\n",
       "2016-10-29 21:25:00  0.006626   1.0\n",
       "2016-10-30 01:40:00 -0.009225   0.0\n",
       "2016-10-30 02:05:00  0.008074   1.0"
      ]
     },
     "execution_count": 13,
     "metadata": {},
     "output_type": "execute_result"
    }
   ],
   "source": [
    "side_labels.loc[side_labels['side'] == -1, 'side'] = 0\n",
    "side_labels.head(15)"
   ]
  },
  {
   "cell_type": "markdown",
   "metadata": {},
   "source": [
    "### Part 1.2 Modelling\n",
    "\n",
    "In here we will apply different models, features and strategies to see their modelling performance."
   ]
  },
  {
   "cell_type": "markdown",
   "metadata": {},
   "source": [
    "#### Part 1.2.1 Setting a baseline (Dummy Classifier)\n",
    "\n",
    "Comparing different models takes not only definition of different performance metrics, but also setting a baseline of comparision. We can use a very simple model to serve as a baseline to compare against other complex classifiers. For this purpose, we will use DummyClassifier, which is a classifier that ignores input features. The model just returns the most frequent class label."
   ]
  },
  {
   "cell_type": "markdown",
   "metadata": {},
   "source": [
    "##### 1.2.1.1 Model training"
   ]
  },
  {
   "cell_type": "code",
   "execution_count": 14,
   "metadata": {
    "scrolled": true
   },
   "outputs": [
    {
     "data": {
      "text/plain": [
       "0.5200440528634361"
      ]
     },
     "execution_count": 14,
     "metadata": {},
     "output_type": "execute_result"
    }
   ],
   "source": [
    "X = btc.loc[side_labels.index, :]\n",
    "y = side_labels['side']\n",
    "\n",
    "X_train, X_test, y_train, y_test = train_test_split(X, y, test_size=0.2, shuffle=False)\n",
    "\n",
    "dummy_clf = DummyClassifier(strategy = 'prior')\n",
    "dummy_clf.fit(X_train,y_train)\n",
    "dummy_clf.predict(X_train)\n",
    "dummy_clf.score(X_train,y_train)"
   ]
  },
  {
   "cell_type": "markdown",
   "metadata": {},
   "source": [
    "##### 1.2.1.2 Model testing and performance metrics\n",
    "\n",
    "\n",
    "##### Performance Metrics\n",
    "In our classification, we can commit two types of errors: Type I and Type II. We could mislabel an operation that should've been a long as a short (false positive) and mislabel a trade that should've been a short as a long (false negative).The labels that have been correctly categorized are called our true positives and true negatives. The relationship between the ammount of these mislabellings and the ammount of true predictions is of utmost importance, since it influences how well the model's performance is. \n",
    "\n",
    "\n",
    "##### Precision\n",
    "\n",
    "Precision is a measurement of how often our model is able to precisely predict a positive value. It computes the size of true positives against the sum of true positives and false positives.\n",
    "\n",
    "##### Recall\n",
    "\n",
    "Recall (aka sensitivity or true positive rate) is a measurement of how accuretely our model is able to identify a true positive against all relevent elements. It computes de size of true positives against the sum of true positives and false negatives.\n",
    "\n",
    "##### F1-Score\n",
    "\n",
    "The F1-Score is a measurment of the total test's accuracy. It computes the harmonic mean of the precision and recall, giving a standard numeric computation.\n",
    "\n",
    "##### Total returns\n",
    "\n",
    "An import metric we have to look at is the total return of the model. If our model has a bad recall, it might be making bad bets too often, which could lead to negative returns even though the accuracy of the model is still over 50%.\n",
    "\n",
    "\n",
    "From a financial stakeholder's perspective, minimizing risk and maximizing return is always the goal. In financial machine learning terms, minimizing risk means lowering our false positive rate, in which means lowering the probability of making a bad bet. However, since false positives and false negatives are intrinsically related in a model, lowering the false positive rate also increases the false negative rate, which increases the probability of the model not taking a bet it shouldn't have taken. This lower profit rate is a price we are willing to take to minimize the risk of the trading scheme. Therefore, we are looking to emphasize our model's recall, giving more importance to identifying true positives correctly at the expense of false positives.\n",
    "\n",
    "With this in mind, for performance metrics, we will be looking at the model's:\n",
    "- Precision\n",
    "- Recall\n",
    "- F1 score\n",
    "- Accuracy\n",
    "- Total returns\n",
    "\n",
    "\n",
    "To visualize the results in a complete and graphical way, we will also look at the model's ROC curve, which will give us a graphical interpretation of our model's performance. The ROC Curve is a graph that plots our Recall over the False Positive Rate. A random classifier plotted in the ROC Curve would yield a point along the diagonal line of the graph, since it has no discriminatory capability.  Since we are trying to maximize our true positive rate and minimize our false positive rate, our classifier is better as closer it gets to the upper left corner of the graph. "
   ]
  },
  {
   "cell_type": "code",
   "execution_count": 15,
   "metadata": {},
   "outputs": [],
   "source": [
    "# Plotting utility function\n",
    "\n",
    "def performance_metrics(classifier, X_test, plot = False):\n",
    "    y_pred_cls = classifier.predict_proba(X_test)[:, 1]\n",
    "    y_pred = classifier.predict(X_test)\n",
    "    fpr, tpr, _ = roc_curve(y_test, y_pred_cls)\n",
    "    \n",
    "    class_report = classification_report(y_test, y_pred)\n",
    "    f1 = f1_score(y_test, y_pred, average='weighted')\n",
    "    conf_matrix = confusion_matrix(y_test, y_pred)\n",
    "    acc = accuracy_score(y_test, y_pred)\n",
    "    \n",
    "    trades = side_labels.loc[X_test.index]\n",
    "    trades['predict'] = y_pred\n",
    "    trades.loc[trades['side'] == 0, 'ret'] = trades['ret']*-1\n",
    "    profits = trades.loc[trades['side'] == trades['predict'], 'ret'].sum()\n",
    "    losses = trades.loc[trades['side'] != trades['predict'], 'ret'].sum()\n",
    "    returns = profits - losses\n",
    "    \n",
    "    if plot:\n",
    "        print(class_report)\n",
    "        print(\"Confusion Matrix\")\n",
    "        print(conf_matrix)\n",
    "\n",
    "        print('')\n",
    "        print(\"Accuracy\")\n",
    "        print(acc)\n",
    "\n",
    "        plt.figure(1)\n",
    "        plt.plot([0, 1], [0, 1], 'k--')\n",
    "        plt.plot(fpr, tpr, label=f'{classifier.__class__.__name__}')\n",
    "        plt.xlabel('False positive rate')\n",
    "        plt.ylabel('True positive rate')\n",
    "        plt.title('ROC curve')\n",
    "        plt.legend(loc='best')\n",
    "        plt.show()\n",
    "        \n",
    "        print(f'Returns:  {returns}')\n",
    "    \n",
    "    return class_report, f1, conf_matrix, acc, returns"
   ]
  },
  {
   "cell_type": "code",
   "execution_count": 16,
   "metadata": {
    "scrolled": true
   },
   "outputs": [
    {
     "name": "stdout",
     "output_type": "stream",
     "text": [
      "              precision    recall  f1-score   support\n",
      "\n",
      "         0.0       0.00      0.00      0.00      2213\n",
      "         1.0       0.51      1.00      0.68      2327\n",
      "\n",
      "    accuracy                           0.51      4540\n",
      "   macro avg       0.26      0.50      0.34      4540\n",
      "weighted avg       0.26      0.51      0.35      4540\n",
      "\n",
      "Confusion Matrix\n",
      "[[   0 2213]\n",
      " [   0 2327]]\n",
      "\n",
      "Accuracy\n",
      "0.5125550660792951\n"
     ]
    },
    {
     "data": {
      "image/png": "[encoded data removed]",
      "text/plain": [
       "<Figure size 432x288 with 1 Axes>"
      ]
     },
     "metadata": {
      "needs_background": "light"
     },
     "output_type": "display_data"
    },
    {
     "name": "stdout",
     "output_type": "stream",
     "text": [
      "Returns:  2.2763690808617234\n"
     ]
    }
   ],
   "source": [
    "dummy_clf.fit(X_train,y_train)\n",
    "dummy_clf.predict(X_test)\n",
    "dummy_clf.score(X_test,y_test)\n",
    "\n",
    "\n",
    "dummy_metrics = performance_metrics(dummy_clf, X_test, plot = True)"
   ]
  },
  {
   "cell_type": "code",
   "execution_count": 17,
   "metadata": {},
   "outputs": [
    {
     "data": {
      "text/plain": [
       "('              precision    recall  f1-score   support\\n\\n         0.0       0.00      0.00      0.00      2213\\n         1.0       0.51      1.00      0.68      2327\\n\\n    accuracy                           0.51      4540\\n   macro avg       0.26      0.50      0.34      4540\\nweighted avg       0.26      0.51      0.35      4540\\n',\n",
       " 0.347376041580463,\n",
       " array([[   0, 2213],\n",
       "        [   0, 2327]]),\n",
       " 0.5125550660792951,\n",
       " 2.2763690808617234)"
      ]
     },
     "execution_count": 17,
     "metadata": {},
     "output_type": "execute_result"
    }
   ],
   "source": [
    "dummy_metrics"
   ]
  },
  {
   "cell_type": "markdown",
   "metadata": {},
   "source": [
    "From the ROC curve, it is clear that this model isn't much better than a coin flip to predict our trades. Let's explore some more. "
   ]
  },
  {
   "cell_type": "markdown",
   "metadata": {},
   "source": [
    "#### Part 1.2.2 Applying a Random Forest Classifier\n",
    "\n",
    "A Random Forest classifier was selected also to set a formal baseline of our models, since it is very reliable. For the baseline, we will apply the model to features that are readily available: price and volume. However, we expect this model to not perform much better than the Dummy Classifier because of the lack of features. Later, we will apply the RF classifier to a more complete input with more trading features."
   ]
  },
  {
   "cell_type": "code",
   "execution_count": 18,
   "metadata": {
    "scrolled": true
   },
   "outputs": [
    {
     "data": {
      "text/plain": [
       "RandomForestClassifier(class_weight='balanced_subsample', criterion='entropy',\n",
       "                       max_depth=2, n_estimators=1000, random_state=0)"
      ]
     },
     "execution_count": 18,
     "metadata": {},
     "output_type": "execute_result"
    }
   ],
   "source": [
    "# Setting random forest parameters\n",
    "n_estimator = 1000\n",
    "depth = 2\n",
    "RANDOM_STATE = 0\n",
    "\n",
    "rf = RandomForestClassifier(max_depth=depth, n_estimators=n_estimator,\n",
    "                            criterion='entropy', class_weight='balanced_subsample',\n",
    "                            random_state=RANDOM_STATE)\n",
    "\n",
    "# Fitting our model\n",
    "rf.fit(X_train, y_train)"
   ]
  },
  {
   "cell_type": "markdown",
   "metadata": {},
   "source": [
    "#### Part 1.2.2.1 RF testing"
   ]
  },
  {
   "cell_type": "code",
   "execution_count": 19,
   "metadata": {
    "scrolled": true
   },
   "outputs": [
    {
     "name": "stdout",
     "output_type": "stream",
     "text": [
      "              precision    recall  f1-score   support\n",
      "\n",
      "         0.0       0.49      0.78      0.61      2213\n",
      "         1.0       0.53      0.24      0.33      2327\n",
      "\n",
      "    accuracy                           0.50      4540\n",
      "   macro avg       0.51      0.51      0.47      4540\n",
      "weighted avg       0.52      0.50      0.46      4540\n",
      "\n",
      "Confusion Matrix\n",
      "[[1728  485]\n",
      " [1769  558]]\n",
      "\n",
      "Accuracy\n",
      "0.5035242290748899\n"
     ]
    },
    {
     "data": {
      "image/png": "[encoded data removed]",
      "text/plain": [
       "<Figure size 432x288 with 1 Axes>"
      ]
     },
     "metadata": {
      "needs_background": "light"
     },
     "output_type": "display_data"
    },
    {
     "name": "stdout",
     "output_type": "stream",
     "text": [
      "Returns:  1.896193007181342\n"
     ]
    }
   ],
   "source": [
    "rf_metrics = performance_metrics(rf, X_test, plot = True)"
   ]
  },
  {
   "cell_type": "markdown",
   "metadata": {},
   "source": [
    "We can see from these results that, using Bitcoin's price as the only feature, using a Random Forest classifier changed almost nothing of the model's performance compared to the Dummy Classifier. This shows that our model requires more features in order to perform better."
   ]
  },
  {
   "cell_type": "markdown",
   "metadata": {},
   "source": [
    "### 1.3 Feature extraction\n",
    "\n",
    "For feature extraction, we shall test a few technical indications that could potentially indicate a price spike or fall. We can use the python library `pandas-ta` to easilly fetch trading indicators from our `btc.csv` dataset."
   ]
  },
  {
   "cell_type": "code",
   "execution_count": 20,
   "metadata": {},
   "outputs": [],
   "source": [
    "import pandas_ta as ta"
   ]
  },
  {
   "cell_type": "markdown",
   "metadata": {},
   "source": [
    "#### 1.3.1 Technical indicators and correlation"
   ]
  },
  {
   "cell_type": "markdown",
   "metadata": {},
   "source": [
    "For now, let's explore these technical indicators and see how they perform with our algorithm.\n",
    "\n",
    "- Exponential Moving Avarege (ema)\n",
    "- Relative Strength Index (RSI)\n",
    "- Stochastic Oscillator (stoch)\n",
    "- Slope (slope)\n",
    "- Moving Average Convergence Divergence (macd)\n",
    "- Momemntum (mom)\n",
    "- Simple Moving Average (sma)"
   ]
  },
  {
   "cell_type": "code",
   "execution_count": 21,
   "metadata": {
    "scrolled": true
   },
   "outputs": [],
   "source": [
    "btc = pd.read_csv('btc.csv')\n",
    "btc['timestamp'] = pd.to_datetime(btc['timestamp'])\n",
    "btc = btc.set_index('timestamp')\n",
    "btc = btc.dropna(axis=0)"
   ]
  },
  {
   "cell_type": "code",
   "execution_count": 22,
   "metadata": {},
   "outputs": [],
   "source": [
    "featured_btc = btc\n",
    "featured_btc['ema'] = ta.ema(close = btc.close, timeperiod=7)\n",
    "featured_btc['rsi'] = ta.rsi(close = btc.close)\n",
    "featured_btc['slope'] = ta.slope(close = btc.close)\n",
    "featured_btc['mom'] = ta.mom(close = btc.close)\n",
    "featured_btc['sma'] = ta.sma(close = btc.close)\n",
    "featured_btc = featured_btc.join(ta.macd(close = btc.close), on='timestamp')\n",
    "featured_btc = featured_btc.join(ta.stoch(close = btc.close, high = btc.high, low = btc.low), on='timestamp')"
   ]
  },
  {
   "cell_type": "markdown",
   "metadata": {},
   "source": [
    "##### Feature Engineering"
   ]
  },
  {
   "cell_type": "code",
   "execution_count": 23,
   "metadata": {
    "scrolled": false
   },
   "outputs": [
    {
     "data": {
      "text/html": [
       "<div>\n",
       "<style scoped>\n",
       "    .dataframe tbody tr th:only-of-type {\n",
       "        vertical-align: middle;\n",
       "    }\n",
       "\n",
       "    .dataframe tbody tr th {\n",
       "        vertical-align: top;\n",
       "    }\n",
       "\n",
       "    .dataframe thead th {\n",
       "        text-align: right;\n",
       "    }\n",
       "</style>\n",
       "<table border=\"1\" class=\"dataframe\">\n",
       "  <thead>\n",
       "    <tr style=\"text-align: right;\">\n",
       "      <th></th>\n",
       "      <th>close</th>\n",
       "      <th>open</th>\n",
       "      <th>high</th>\n",
       "      <th>low</th>\n",
       "      <th>volume</th>\n",
       "      <th>ema</th>\n",
       "      <th>rsi</th>\n",
       "      <th>slope</th>\n",
       "      <th>mom</th>\n",
       "      <th>sma</th>\n",
       "      <th>MACD_12_26_9</th>\n",
       "      <th>MACDh_12_26_9</th>\n",
       "      <th>MACDs_12_26_9</th>\n",
       "      <th>STOCHk_14_3_3</th>\n",
       "      <th>STOCHd_14_3_3</th>\n",
       "    </tr>\n",
       "    <tr>\n",
       "      <th>timestamp</th>\n",
       "      <th></th>\n",
       "      <th></th>\n",
       "      <th></th>\n",
       "      <th></th>\n",
       "      <th></th>\n",
       "      <th></th>\n",
       "      <th></th>\n",
       "      <th></th>\n",
       "      <th></th>\n",
       "      <th></th>\n",
       "      <th></th>\n",
       "      <th></th>\n",
       "      <th></th>\n",
       "      <th></th>\n",
       "      <th></th>\n",
       "    </tr>\n",
       "  </thead>\n",
       "  <tbody>\n",
       "    <tr>\n",
       "      <th>2016-08-24 00:00:00</th>\n",
       "      <td>582.54</td>\n",
       "      <td>582.39</td>\n",
       "      <td>582.68</td>\n",
       "      <td>582.39</td>\n",
       "      <td>20.057520</td>\n",
       "      <td>NaN</td>\n",
       "      <td>NaN</td>\n",
       "      <td>NaN</td>\n",
       "      <td>NaN</td>\n",
       "      <td>NaN</td>\n",
       "      <td>NaN</td>\n",
       "      <td>NaN</td>\n",
       "      <td>NaN</td>\n",
       "      <td>NaN</td>\n",
       "      <td>NaN</td>\n",
       "    </tr>\n",
       "    <tr>\n",
       "      <th>2016-08-24 00:05:00</th>\n",
       "      <td>582.49</td>\n",
       "      <td>582.68</td>\n",
       "      <td>582.68</td>\n",
       "      <td>582.47</td>\n",
       "      <td>6.698160</td>\n",
       "      <td>NaN</td>\n",
       "      <td>NaN</td>\n",
       "      <td>-0.05</td>\n",
       "      <td>NaN</td>\n",
       "      <td>NaN</td>\n",
       "      <td>NaN</td>\n",
       "      <td>NaN</td>\n",
       "      <td>NaN</td>\n",
       "      <td>NaN</td>\n",
       "      <td>NaN</td>\n",
       "    </tr>\n",
       "    <tr>\n",
       "      <th>2016-08-24 00:10:00</th>\n",
       "      <td>582.48</td>\n",
       "      <td>582.49</td>\n",
       "      <td>582.49</td>\n",
       "      <td>582.35</td>\n",
       "      <td>4.730530</td>\n",
       "      <td>NaN</td>\n",
       "      <td>NaN</td>\n",
       "      <td>-0.01</td>\n",
       "      <td>NaN</td>\n",
       "      <td>NaN</td>\n",
       "      <td>NaN</td>\n",
       "      <td>NaN</td>\n",
       "      <td>NaN</td>\n",
       "      <td>NaN</td>\n",
       "      <td>NaN</td>\n",
       "    </tr>\n",
       "    <tr>\n",
       "      <th>2016-08-24 00:15:00</th>\n",
       "      <td>582.28</td>\n",
       "      <td>582.45</td>\n",
       "      <td>582.49</td>\n",
       "      <td>582.28</td>\n",
       "      <td>7.149140</td>\n",
       "      <td>NaN</td>\n",
       "      <td>NaN</td>\n",
       "      <td>-0.20</td>\n",
       "      <td>NaN</td>\n",
       "      <td>NaN</td>\n",
       "      <td>NaN</td>\n",
       "      <td>NaN</td>\n",
       "      <td>NaN</td>\n",
       "      <td>NaN</td>\n",
       "      <td>NaN</td>\n",
       "    </tr>\n",
       "    <tr>\n",
       "      <th>2016-08-24 00:20:00</th>\n",
       "      <td>582.05</td>\n",
       "      <td>582.32</td>\n",
       "      <td>582.38</td>\n",
       "      <td>582.05</td>\n",
       "      <td>13.120994</td>\n",
       "      <td>NaN</td>\n",
       "      <td>NaN</td>\n",
       "      <td>-0.23</td>\n",
       "      <td>NaN</td>\n",
       "      <td>NaN</td>\n",
       "      <td>NaN</td>\n",
       "      <td>NaN</td>\n",
       "      <td>NaN</td>\n",
       "      <td>NaN</td>\n",
       "      <td>NaN</td>\n",
       "    </tr>\n",
       "    <tr>\n",
       "      <th>2016-08-24 00:25:00</th>\n",
       "      <td>581.63</td>\n",
       "      <td>582.04</td>\n",
       "      <td>582.20</td>\n",
       "      <td>581.52</td>\n",
       "      <td>31.566578</td>\n",
       "      <td>NaN</td>\n",
       "      <td>NaN</td>\n",
       "      <td>-0.42</td>\n",
       "      <td>NaN</td>\n",
       "      <td>NaN</td>\n",
       "      <td>NaN</td>\n",
       "      <td>NaN</td>\n",
       "      <td>NaN</td>\n",
       "      <td>NaN</td>\n",
       "      <td>NaN</td>\n",
       "    </tr>\n",
       "    <tr>\n",
       "      <th>2016-08-24 00:30:00</th>\n",
       "      <td>581.75</td>\n",
       "      <td>581.64</td>\n",
       "      <td>581.95</td>\n",
       "      <td>581.64</td>\n",
       "      <td>3.651140</td>\n",
       "      <td>NaN</td>\n",
       "      <td>NaN</td>\n",
       "      <td>0.12</td>\n",
       "      <td>NaN</td>\n",
       "      <td>NaN</td>\n",
       "      <td>NaN</td>\n",
       "      <td>NaN</td>\n",
       "      <td>NaN</td>\n",
       "      <td>NaN</td>\n",
       "      <td>NaN</td>\n",
       "    </tr>\n",
       "    <tr>\n",
       "      <th>2016-08-24 00:35:00</th>\n",
       "      <td>581.20</td>\n",
       "      <td>581.70</td>\n",
       "      <td>581.89</td>\n",
       "      <td>581.12</td>\n",
       "      <td>24.184950</td>\n",
       "      <td>NaN</td>\n",
       "      <td>NaN</td>\n",
       "      <td>-0.55</td>\n",
       "      <td>NaN</td>\n",
       "      <td>NaN</td>\n",
       "      <td>NaN</td>\n",
       "      <td>NaN</td>\n",
       "      <td>NaN</td>\n",
       "      <td>NaN</td>\n",
       "      <td>NaN</td>\n",
       "    </tr>\n",
       "    <tr>\n",
       "      <th>2016-08-24 00:40:00</th>\n",
       "      <td>581.02</td>\n",
       "      <td>581.23</td>\n",
       "      <td>581.50</td>\n",
       "      <td>580.92</td>\n",
       "      <td>27.750094</td>\n",
       "      <td>NaN</td>\n",
       "      <td>NaN</td>\n",
       "      <td>-0.18</td>\n",
       "      <td>NaN</td>\n",
       "      <td>NaN</td>\n",
       "      <td>NaN</td>\n",
       "      <td>NaN</td>\n",
       "      <td>NaN</td>\n",
       "      <td>NaN</td>\n",
       "      <td>NaN</td>\n",
       "    </tr>\n",
       "    <tr>\n",
       "      <th>2016-08-24 00:45:00</th>\n",
       "      <td>580.74</td>\n",
       "      <td>581.06</td>\n",
       "      <td>581.11</td>\n",
       "      <td>580.55</td>\n",
       "      <td>19.917550</td>\n",
       "      <td>581.818000</td>\n",
       "      <td>NaN</td>\n",
       "      <td>-0.28</td>\n",
       "      <td>NaN</td>\n",
       "      <td>581.818</td>\n",
       "      <td>NaN</td>\n",
       "      <td>NaN</td>\n",
       "      <td>NaN</td>\n",
       "      <td>NaN</td>\n",
       "      <td>NaN</td>\n",
       "    </tr>\n",
       "    <tr>\n",
       "      <th>2016-08-24 00:50:00</th>\n",
       "      <td>581.70</td>\n",
       "      <td>580.75</td>\n",
       "      <td>581.80</td>\n",
       "      <td>580.75</td>\n",
       "      <td>11.491563</td>\n",
       "      <td>581.796545</td>\n",
       "      <td>NaN</td>\n",
       "      <td>0.96</td>\n",
       "      <td>-0.84</td>\n",
       "      <td>581.734</td>\n",
       "      <td>NaN</td>\n",
       "      <td>NaN</td>\n",
       "      <td>NaN</td>\n",
       "      <td>NaN</td>\n",
       "      <td>NaN</td>\n",
       "    </tr>\n",
       "    <tr>\n",
       "      <th>2016-08-24 00:55:00</th>\n",
       "      <td>581.88</td>\n",
       "      <td>581.70</td>\n",
       "      <td>582.05</td>\n",
       "      <td>581.57</td>\n",
       "      <td>5.104611</td>\n",
       "      <td>581.811719</td>\n",
       "      <td>NaN</td>\n",
       "      <td>0.18</td>\n",
       "      <td>-0.61</td>\n",
       "      <td>581.673</td>\n",
       "      <td>NaN</td>\n",
       "      <td>NaN</td>\n",
       "      <td>NaN</td>\n",
       "      <td>NaN</td>\n",
       "      <td>NaN</td>\n",
       "    </tr>\n",
       "    <tr>\n",
       "      <th>2016-08-24 01:00:00</th>\n",
       "      <td>582.29</td>\n",
       "      <td>582.03</td>\n",
       "      <td>582.29</td>\n",
       "      <td>581.96</td>\n",
       "      <td>14.076882</td>\n",
       "      <td>581.898679</td>\n",
       "      <td>NaN</td>\n",
       "      <td>0.41</td>\n",
       "      <td>-0.19</td>\n",
       "      <td>581.654</td>\n",
       "      <td>NaN</td>\n",
       "      <td>NaN</td>\n",
       "      <td>NaN</td>\n",
       "      <td>NaN</td>\n",
       "      <td>NaN</td>\n",
       "    </tr>\n",
       "    <tr>\n",
       "      <th>2016-08-24 01:05:00</th>\n",
       "      <td>582.24</td>\n",
       "      <td>582.29</td>\n",
       "      <td>582.38</td>\n",
       "      <td>582.18</td>\n",
       "      <td>11.504871</td>\n",
       "      <td>581.960738</td>\n",
       "      <td>NaN</td>\n",
       "      <td>-0.05</td>\n",
       "      <td>-0.04</td>\n",
       "      <td>581.650</td>\n",
       "      <td>NaN</td>\n",
       "      <td>NaN</td>\n",
       "      <td>NaN</td>\n",
       "      <td>NaN</td>\n",
       "      <td>NaN</td>\n",
       "    </tr>\n",
       "    <tr>\n",
       "      <th>2016-08-24 01:10:00</th>\n",
       "      <td>582.28</td>\n",
       "      <td>582.20</td>\n",
       "      <td>582.36</td>\n",
       "      <td>582.06</td>\n",
       "      <td>5.260700</td>\n",
       "      <td>582.018785</td>\n",
       "      <td>46.467391</td>\n",
       "      <td>0.04</td>\n",
       "      <td>0.23</td>\n",
       "      <td>581.673</td>\n",
       "      <td>NaN</td>\n",
       "      <td>NaN</td>\n",
       "      <td>NaN</td>\n",
       "      <td>NaN</td>\n",
       "      <td>NaN</td>\n",
       "    </tr>\n",
       "    <tr>\n",
       "      <th>2016-08-24 01:15:00</th>\n",
       "      <td>582.38</td>\n",
       "      <td>582.12</td>\n",
       "      <td>582.38</td>\n",
       "      <td>582.12</td>\n",
       "      <td>1.440520</td>\n",
       "      <td>582.084461</td>\n",
       "      <td>47.989439</td>\n",
       "      <td>0.10</td>\n",
       "      <td>0.75</td>\n",
       "      <td>581.748</td>\n",
       "      <td>NaN</td>\n",
       "      <td>NaN</td>\n",
       "      <td>NaN</td>\n",
       "      <td>84.964426</td>\n",
       "      <td>NaN</td>\n",
       "    </tr>\n",
       "    <tr>\n",
       "      <th>2016-08-24 01:20:00</th>\n",
       "      <td>582.02</td>\n",
       "      <td>582.37</td>\n",
       "      <td>582.37</td>\n",
       "      <td>581.90</td>\n",
       "      <td>17.039114</td>\n",
       "      <td>582.072741</td>\n",
       "      <td>43.224799</td>\n",
       "      <td>-0.36</td>\n",
       "      <td>0.27</td>\n",
       "      <td>581.775</td>\n",
       "      <td>NaN</td>\n",
       "      <td>NaN</td>\n",
       "      <td>NaN</td>\n",
       "      <td>83.774583</td>\n",
       "      <td>NaN</td>\n",
       "    </tr>\n",
       "    <tr>\n",
       "      <th>2016-08-24 01:25:00</th>\n",
       "      <td>582.11</td>\n",
       "      <td>582.03</td>\n",
       "      <td>582.38</td>\n",
       "      <td>582.03</td>\n",
       "      <td>13.359721</td>\n",
       "      <td>582.079515</td>\n",
       "      <td>44.702924</td>\n",
       "      <td>0.09</td>\n",
       "      <td>0.91</td>\n",
       "      <td>581.866</td>\n",
       "      <td>NaN</td>\n",
       "      <td>NaN</td>\n",
       "      <td>NaN</td>\n",
       "      <td>85.116331</td>\n",
       "      <td>84.618447</td>\n",
       "    </tr>\n",
       "    <tr>\n",
       "      <th>2016-08-24 01:30:00</th>\n",
       "      <td>581.88</td>\n",
       "      <td>582.28</td>\n",
       "      <td>582.29</td>\n",
       "      <td>581.73</td>\n",
       "      <td>30.271788</td>\n",
       "      <td>582.043240</td>\n",
       "      <td>41.714067</td>\n",
       "      <td>-0.23</td>\n",
       "      <td>0.86</td>\n",
       "      <td>581.952</td>\n",
       "      <td>NaN</td>\n",
       "      <td>NaN</td>\n",
       "      <td>NaN</td>\n",
       "      <td>77.898898</td>\n",
       "      <td>82.263271</td>\n",
       "    </tr>\n",
       "    <tr>\n",
       "      <th>2016-08-24 01:35:00</th>\n",
       "      <td>581.70</td>\n",
       "      <td>582.03</td>\n",
       "      <td>582.08</td>\n",
       "      <td>581.70</td>\n",
       "      <td>8.829291</td>\n",
       "      <td>581.980832</td>\n",
       "      <td>39.488846</td>\n",
       "      <td>-0.18</td>\n",
       "      <td>0.96</td>\n",
       "      <td>582.048</td>\n",
       "      <td>NaN</td>\n",
       "      <td>NaN</td>\n",
       "      <td>NaN</td>\n",
       "      <td>73.588342</td>\n",
       "      <td>78.867857</td>\n",
       "    </tr>\n",
       "    <tr>\n",
       "      <th>2016-08-24 01:40:00</th>\n",
       "      <td>581.71</td>\n",
       "      <td>581.87</td>\n",
       "      <td>581.95</td>\n",
       "      <td>581.71</td>\n",
       "      <td>4.798325</td>\n",
       "      <td>581.931590</td>\n",
       "      <td>39.681357</td>\n",
       "      <td>0.01</td>\n",
       "      <td>0.01</td>\n",
       "      <td>582.049</td>\n",
       "      <td>NaN</td>\n",
       "      <td>NaN</td>\n",
       "      <td>NaN</td>\n",
       "      <td>66.302368</td>\n",
       "      <td>72.596536</td>\n",
       "    </tr>\n",
       "    <tr>\n",
       "      <th>2016-08-24 01:45:00</th>\n",
       "      <td>581.70</td>\n",
       "      <td>581.77</td>\n",
       "      <td>581.77</td>\n",
       "      <td>581.69</td>\n",
       "      <td>11.887060</td>\n",
       "      <td>581.889483</td>\n",
       "      <td>39.545868</td>\n",
       "      <td>-0.01</td>\n",
       "      <td>-0.18</td>\n",
       "      <td>582.031</td>\n",
       "      <td>NaN</td>\n",
       "      <td>NaN</td>\n",
       "      <td>NaN</td>\n",
       "      <td>63.023679</td>\n",
       "      <td>67.638130</td>\n",
       "    </tr>\n",
       "    <tr>\n",
       "      <th>2016-08-24 01:50:00</th>\n",
       "      <td>581.72</td>\n",
       "      <td>581.72</td>\n",
       "      <td>581.86</td>\n",
       "      <td>581.61</td>\n",
       "      <td>7.935560</td>\n",
       "      <td>581.858668</td>\n",
       "      <td>39.987211</td>\n",
       "      <td>0.02</td>\n",
       "      <td>-0.57</td>\n",
       "      <td>581.974</td>\n",
       "      <td>NaN</td>\n",
       "      <td>NaN</td>\n",
       "      <td>NaN</td>\n",
       "      <td>63.387978</td>\n",
       "      <td>64.238009</td>\n",
       "    </tr>\n",
       "    <tr>\n",
       "      <th>2016-08-24 01:55:00</th>\n",
       "      <td>581.92</td>\n",
       "      <td>581.79</td>\n",
       "      <td>581.98</td>\n",
       "      <td>581.65</td>\n",
       "      <td>11.215370</td>\n",
       "      <td>581.869819</td>\n",
       "      <td>44.361530</td>\n",
       "      <td>0.20</td>\n",
       "      <td>-0.32</td>\n",
       "      <td>581.942</td>\n",
       "      <td>NaN</td>\n",
       "      <td>NaN</td>\n",
       "      <td>NaN</td>\n",
       "      <td>66.185032</td>\n",
       "      <td>64.198897</td>\n",
       "    </tr>\n",
       "    <tr>\n",
       "      <th>2016-08-24 02:00:00</th>\n",
       "      <td>581.08</td>\n",
       "      <td>581.80</td>\n",
       "      <td>581.95</td>\n",
       "      <td>581.08</td>\n",
       "      <td>19.004940</td>\n",
       "      <td>581.726216</td>\n",
       "      <td>33.362408</td>\n",
       "      <td>-0.84</td>\n",
       "      <td>-1.20</td>\n",
       "      <td>581.822</td>\n",
       "      <td>NaN</td>\n",
       "      <td>NaN</td>\n",
       "      <td>NaN</td>\n",
       "      <td>45.237856</td>\n",
       "      <td>58.270289</td>\n",
       "    </tr>\n",
       "    <tr>\n",
       "      <th>2016-08-24 02:05:00</th>\n",
       "      <td>581.18</td>\n",
       "      <td>581.19</td>\n",
       "      <td>581.19</td>\n",
       "      <td>581.16</td>\n",
       "      <td>2.126717</td>\n",
       "      <td>581.626904</td>\n",
       "      <td>35.415394</td>\n",
       "      <td>0.10</td>\n",
       "      <td>-1.20</td>\n",
       "      <td>581.702</td>\n",
       "      <td>NaN</td>\n",
       "      <td>NaN</td>\n",
       "      <td>NaN</td>\n",
       "      <td>26.490483</td>\n",
       "      <td>45.971124</td>\n",
       "    </tr>\n",
       "    <tr>\n",
       "      <th>2016-08-24 02:10:00</th>\n",
       "      <td>581.22</td>\n",
       "      <td>581.16</td>\n",
       "      <td>581.35</td>\n",
       "      <td>581.09</td>\n",
       "      <td>20.202160</td>\n",
       "      <td>581.552921</td>\n",
       "      <td>36.261285</td>\n",
       "      <td>0.04</td>\n",
       "      <td>-0.80</td>\n",
       "      <td>581.622</td>\n",
       "      <td>NaN</td>\n",
       "      <td>NaN</td>\n",
       "      <td>NaN</td>\n",
       "      <td>6.153846</td>\n",
       "      <td>25.960728</td>\n",
       "    </tr>\n",
       "    <tr>\n",
       "      <th>2016-08-24 02:15:00</th>\n",
       "      <td>581.17</td>\n",
       "      <td>581.10</td>\n",
       "      <td>581.29</td>\n",
       "      <td>581.00</td>\n",
       "      <td>2.006430</td>\n",
       "      <td>581.483299</td>\n",
       "      <td>35.633034</td>\n",
       "      <td>-0.05</td>\n",
       "      <td>-0.94</td>\n",
       "      <td>581.528</td>\n",
       "      <td>NaN</td>\n",
       "      <td>NaN</td>\n",
       "      <td>NaN</td>\n",
       "      <td>10.260126</td>\n",
       "      <td>14.301485</td>\n",
       "    </tr>\n",
       "    <tr>\n",
       "      <th>2016-08-24 02:20:00</th>\n",
       "      <td>581.10</td>\n",
       "      <td>581.13</td>\n",
       "      <td>581.20</td>\n",
       "      <td>580.97</td>\n",
       "      <td>17.203835</td>\n",
       "      <td>581.413608</td>\n",
       "      <td>34.725931</td>\n",
       "      <td>-0.07</td>\n",
       "      <td>-0.78</td>\n",
       "      <td>581.450</td>\n",
       "      <td>NaN</td>\n",
       "      <td>NaN</td>\n",
       "      <td>NaN</td>\n",
       "      <td>10.769310</td>\n",
       "      <td>9.061094</td>\n",
       "    </tr>\n",
       "    <tr>\n",
       "      <th>2016-08-24 02:25:00</th>\n",
       "      <td>581.23</td>\n",
       "      <td>581.08</td>\n",
       "      <td>581.23</td>\n",
       "      <td>581.04</td>\n",
       "      <td>15.544930</td>\n",
       "      <td>581.380225</td>\n",
       "      <td>37.888263</td>\n",
       "      <td>0.13</td>\n",
       "      <td>-0.47</td>\n",
       "      <td>581.403</td>\n",
       "      <td>NaN</td>\n",
       "      <td>NaN</td>\n",
       "      <td>NaN</td>\n",
       "      <td>13.326138</td>\n",
       "      <td>11.451858</td>\n",
       "    </tr>\n",
       "    <tr>\n",
       "      <th>2016-08-24 02:30:00</th>\n",
       "      <td>581.17</td>\n",
       "      <td>581.24</td>\n",
       "      <td>581.40</td>\n",
       "      <td>581.11</td>\n",
       "      <td>8.334052</td>\n",
       "      <td>581.342002</td>\n",
       "      <td>36.997361</td>\n",
       "      <td>-0.06</td>\n",
       "      <td>-0.54</td>\n",
       "      <td>581.349</td>\n",
       "      <td>NaN</td>\n",
       "      <td>NaN</td>\n",
       "      <td>NaN</td>\n",
       "      <td>13.947991</td>\n",
       "      <td>12.681146</td>\n",
       "    </tr>\n",
       "    <tr>\n",
       "      <th>2016-08-24 02:35:00</th>\n",
       "      <td>581.24</td>\n",
       "      <td>581.14</td>\n",
       "      <td>581.31</td>\n",
       "      <td>581.03</td>\n",
       "      <td>6.992440</td>\n",
       "      <td>581.323456</td>\n",
       "      <td>38.805247</td>\n",
       "      <td>0.07</td>\n",
       "      <td>-0.46</td>\n",
       "      <td>581.303</td>\n",
       "      <td>NaN</td>\n",
       "      <td>NaN</td>\n",
       "      <td>NaN</td>\n",
       "      <td>17.692886</td>\n",
       "      <td>14.989005</td>\n",
       "    </tr>\n",
       "    <tr>\n",
       "      <th>2016-08-24 02:40:00</th>\n",
       "      <td>581.33</td>\n",
       "      <td>581.21</td>\n",
       "      <td>581.47</td>\n",
       "      <td>581.21</td>\n",
       "      <td>5.182660</td>\n",
       "      <td>581.324646</td>\n",
       "      <td>41.143729</td>\n",
       "      <td>0.09</td>\n",
       "      <td>-0.39</td>\n",
       "      <td>581.264</td>\n",
       "      <td>NaN</td>\n",
       "      <td>NaN</td>\n",
       "      <td>NaN</td>\n",
       "      <td>22.357125</td>\n",
       "      <td>17.999334</td>\n",
       "    </tr>\n",
       "    <tr>\n",
       "      <th>2016-08-24 02:45:00</th>\n",
       "      <td>581.58</td>\n",
       "      <td>581.32</td>\n",
       "      <td>581.58</td>\n",
       "      <td>581.16</td>\n",
       "      <td>23.293620</td>\n",
       "      <td>581.371074</td>\n",
       "      <td>47.181644</td>\n",
       "      <td>0.25</td>\n",
       "      <td>-0.34</td>\n",
       "      <td>581.230</td>\n",
       "      <td>-0.151001</td>\n",
       "      <td>-0.011326</td>\n",
       "      <td>-0.139675</td>\n",
       "      <td>37.761006</td>\n",
       "      <td>25.937006</td>\n",
       "    </tr>\n",
       "    <tr>\n",
       "      <th>2016-08-24 02:50:00</th>\n",
       "      <td>581.10</td>\n",
       "      <td>581.32</td>\n",
       "      <td>581.47</td>\n",
       "      <td>581.10</td>\n",
       "      <td>2.786672</td>\n",
       "      <td>581.321788</td>\n",
       "      <td>38.924918</td>\n",
       "      <td>-0.48</td>\n",
       "      <td>0.02</td>\n",
       "      <td>581.232</td>\n",
       "      <td>-0.166249</td>\n",
       "      <td>-0.021260</td>\n",
       "      <td>-0.144990</td>\n",
       "      <td>35.233253</td>\n",
       "      <td>31.783795</td>\n",
       "    </tr>\n",
       "    <tr>\n",
       "      <th>2016-08-24 02:55:00</th>\n",
       "      <td>581.20</td>\n",
       "      <td>581.20</td>\n",
       "      <td>581.34</td>\n",
       "      <td>581.03</td>\n",
       "      <td>10.950970</td>\n",
       "      <td>581.299645</td>\n",
       "      <td>41.232287</td>\n",
       "      <td>0.10</td>\n",
       "      <td>0.02</td>\n",
       "      <td>581.234</td>\n",
       "      <td>-0.168325</td>\n",
       "      <td>-0.018668</td>\n",
       "      <td>-0.149657</td>\n",
       "      <td>32.013201</td>\n",
       "      <td>35.002487</td>\n",
       "    </tr>\n",
       "    <tr>\n",
       "      <th>2016-08-24 03:00:00</th>\n",
       "      <td>581.36</td>\n",
       "      <td>581.12</td>\n",
       "      <td>581.38</td>\n",
       "      <td>581.12</td>\n",
       "      <td>3.541770</td>\n",
       "      <td>581.310618</td>\n",
       "      <td>44.824049</td>\n",
       "      <td>0.16</td>\n",
       "      <td>0.14</td>\n",
       "      <td>581.248</td>\n",
       "      <td>-0.155269</td>\n",
       "      <td>-0.004490</td>\n",
       "      <td>-0.150779</td>\n",
       "      <td>24.752475</td>\n",
       "      <td>30.666310</td>\n",
       "    </tr>\n",
       "    <tr>\n",
       "      <th>2016-08-24 03:05:00</th>\n",
       "      <td>581.00</td>\n",
       "      <td>581.33</td>\n",
       "      <td>581.34</td>\n",
       "      <td>581.00</td>\n",
       "      <td>17.401130</td>\n",
       "      <td>581.254142</td>\n",
       "      <td>39.042160</td>\n",
       "      <td>-0.36</td>\n",
       "      <td>-0.17</td>\n",
       "      <td>581.231</td>\n",
       "      <td>-0.171988</td>\n",
       "      <td>-0.016967</td>\n",
       "      <td>-0.155021</td>\n",
       "      <td>21.482454</td>\n",
       "      <td>26.082710</td>\n",
       "    </tr>\n",
       "    <tr>\n",
       "      <th>2016-08-24 03:10:00</th>\n",
       "      <td>580.68</td>\n",
       "      <td>581.01</td>\n",
       "      <td>581.02</td>\n",
       "      <td>580.68</td>\n",
       "      <td>30.259504</td>\n",
       "      <td>581.149753</td>\n",
       "      <td>34.751146</td>\n",
       "      <td>-0.32</td>\n",
       "      <td>-0.42</td>\n",
       "      <td>581.189</td>\n",
       "      <td>-0.208655</td>\n",
       "      <td>-0.042907</td>\n",
       "      <td>-0.165748</td>\n",
       "      <td>13.891695</td>\n",
       "      <td>20.042208</td>\n",
       "    </tr>\n",
       "    <tr>\n",
       "      <th>2016-08-24 03:15:00</th>\n",
       "      <td>580.74</td>\n",
       "      <td>580.75</td>\n",
       "      <td>580.95</td>\n",
       "      <td>580.68</td>\n",
       "      <td>4.001220</td>\n",
       "      <td>581.075252</td>\n",
       "      <td>36.167762</td>\n",
       "      <td>0.06</td>\n",
       "      <td>-0.49</td>\n",
       "      <td>581.140</td>\n",
       "      <td>-0.230218</td>\n",
       "      <td>-0.051576</td>\n",
       "      <td>-0.178642</td>\n",
       "      <td>3.242630</td>\n",
       "      <td>12.872260</td>\n",
       "    </tr>\n",
       "  </tbody>\n",
       "</table>\n",
       "</div>"
      ],
      "text/plain": [
       "                      close    open    high     low     volume         ema  \\\n",
       "timestamp                                                                    \n",
       "2016-08-24 00:00:00  582.54  582.39  582.68  582.39  20.057520         NaN   \n",
       "2016-08-24 00:05:00  582.49  582.68  582.68  582.47   6.698160         NaN   \n",
       "2016-08-24 00:10:00  582.48  582.49  582.49  582.35   4.730530         NaN   \n",
       "2016-08-24 00:15:00  582.28  582.45  582.49  582.28   7.149140         NaN   \n",
       "2016-08-24 00:20:00  582.05  582.32  582.38  582.05  13.120994         NaN   \n",
       "2016-08-24 00:25:00  581.63  582.04  582.20  581.52  31.566578         NaN   \n",
       "2016-08-24 00:30:00  581.75  581.64  581.95  581.64   3.651140         NaN   \n",
       "2016-08-24 00:35:00  581.20  581.70  581.89  581.12  24.184950         NaN   \n",
       "2016-08-24 00:40:00  581.02  581.23  581.50  580.92  27.750094         NaN   \n",
       "2016-08-24 00:45:00  580.74  581.06  581.11  580.55  19.917550  581.818000   \n",
       "2016-08-24 00:50:00  581.70  580.75  581.80  580.75  11.491563  581.796545   \n",
       "2016-08-24 00:55:00  581.88  581.70  582.05  581.57   5.104611  581.811719   \n",
       "2016-08-24 01:00:00  582.29  582.03  582.29  581.96  14.076882  581.898679   \n",
       "2016-08-24 01:05:00  582.24  582.29  582.38  582.18  11.504871  581.960738   \n",
       "2016-08-24 01:10:00  582.28  582.20  582.36  582.06   5.260700  582.018785   \n",
       "2016-08-24 01:15:00  582.38  582.12  582.38  582.12   1.440520  582.084461   \n",
       "2016-08-24 01:20:00  582.02  582.37  582.37  581.90  17.039114  582.072741   \n",
       "2016-08-24 01:25:00  582.11  582.03  582.38  582.03  13.359721  582.079515   \n",
       "2016-08-24 01:30:00  581.88  582.28  582.29  581.73  30.271788  582.043240   \n",
       "2016-08-24 01:35:00  581.70  582.03  582.08  581.70   8.829291  581.980832   \n",
       "2016-08-24 01:40:00  581.71  581.87  581.95  581.71   4.798325  581.931590   \n",
       "2016-08-24 01:45:00  581.70  581.77  581.77  581.69  11.887060  581.889483   \n",
       "2016-08-24 01:50:00  581.72  581.72  581.86  581.61   7.935560  581.858668   \n",
       "2016-08-24 01:55:00  581.92  581.79  581.98  581.65  11.215370  581.869819   \n",
       "2016-08-24 02:00:00  581.08  581.80  581.95  581.08  19.004940  581.726216   \n",
       "2016-08-24 02:05:00  581.18  581.19  581.19  581.16   2.126717  581.626904   \n",
       "2016-08-24 02:10:00  581.22  581.16  581.35  581.09  20.202160  581.552921   \n",
       "2016-08-24 02:15:00  581.17  581.10  581.29  581.00   2.006430  581.483299   \n",
       "2016-08-24 02:20:00  581.10  581.13  581.20  580.97  17.203835  581.413608   \n",
       "2016-08-24 02:25:00  581.23  581.08  581.23  581.04  15.544930  581.380225   \n",
       "2016-08-24 02:30:00  581.17  581.24  581.40  581.11   8.334052  581.342002   \n",
       "2016-08-24 02:35:00  581.24  581.14  581.31  581.03   6.992440  581.323456   \n",
       "2016-08-24 02:40:00  581.33  581.21  581.47  581.21   5.182660  581.324646   \n",
       "2016-08-24 02:45:00  581.58  581.32  581.58  581.16  23.293620  581.371074   \n",
       "2016-08-24 02:50:00  581.10  581.32  581.47  581.10   2.786672  581.321788   \n",
       "2016-08-24 02:55:00  581.20  581.20  581.34  581.03  10.950970  581.299645   \n",
       "2016-08-24 03:00:00  581.36  581.12  581.38  581.12   3.541770  581.310618   \n",
       "2016-08-24 03:05:00  581.00  581.33  581.34  581.00  17.401130  581.254142   \n",
       "2016-08-24 03:10:00  580.68  581.01  581.02  580.68  30.259504  581.149753   \n",
       "2016-08-24 03:15:00  580.74  580.75  580.95  580.68   4.001220  581.075252   \n",
       "\n",
       "                           rsi  slope   mom      sma  MACD_12_26_9  \\\n",
       "timestamp                                                            \n",
       "2016-08-24 00:00:00        NaN    NaN   NaN      NaN           NaN   \n",
       "2016-08-24 00:05:00        NaN  -0.05   NaN      NaN           NaN   \n",
       "2016-08-24 00:10:00        NaN  -0.01   NaN      NaN           NaN   \n",
       "2016-08-24 00:15:00        NaN  -0.20   NaN      NaN           NaN   \n",
       "2016-08-24 00:20:00        NaN  -0.23   NaN      NaN           NaN   \n",
       "2016-08-24 00:25:00        NaN  -0.42   NaN      NaN           NaN   \n",
       "2016-08-24 00:30:00        NaN   0.12   NaN      NaN           NaN   \n",
       "2016-08-24 00:35:00        NaN  -0.55   NaN      NaN           NaN   \n",
       "2016-08-24 00:40:00        NaN  -0.18   NaN      NaN           NaN   \n",
       "2016-08-24 00:45:00        NaN  -0.28   NaN  581.818           NaN   \n",
       "2016-08-24 00:50:00        NaN   0.96 -0.84  581.734           NaN   \n",
       "2016-08-24 00:55:00        NaN   0.18 -0.61  581.673           NaN   \n",
       "2016-08-24 01:00:00        NaN   0.41 -0.19  581.654           NaN   \n",
       "2016-08-24 01:05:00        NaN  -0.05 -0.04  581.650           NaN   \n",
       "2016-08-24 01:10:00  46.467391   0.04  0.23  581.673           NaN   \n",
       "2016-08-24 01:15:00  47.989439   0.10  0.75  581.748           NaN   \n",
       "2016-08-24 01:20:00  43.224799  -0.36  0.27  581.775           NaN   \n",
       "2016-08-24 01:25:00  44.702924   0.09  0.91  581.866           NaN   \n",
       "2016-08-24 01:30:00  41.714067  -0.23  0.86  581.952           NaN   \n",
       "2016-08-24 01:35:00  39.488846  -0.18  0.96  582.048           NaN   \n",
       "2016-08-24 01:40:00  39.681357   0.01  0.01  582.049           NaN   \n",
       "2016-08-24 01:45:00  39.545868  -0.01 -0.18  582.031           NaN   \n",
       "2016-08-24 01:50:00  39.987211   0.02 -0.57  581.974           NaN   \n",
       "2016-08-24 01:55:00  44.361530   0.20 -0.32  581.942           NaN   \n",
       "2016-08-24 02:00:00  33.362408  -0.84 -1.20  581.822           NaN   \n",
       "2016-08-24 02:05:00  35.415394   0.10 -1.20  581.702           NaN   \n",
       "2016-08-24 02:10:00  36.261285   0.04 -0.80  581.622           NaN   \n",
       "2016-08-24 02:15:00  35.633034  -0.05 -0.94  581.528           NaN   \n",
       "2016-08-24 02:20:00  34.725931  -0.07 -0.78  581.450           NaN   \n",
       "2016-08-24 02:25:00  37.888263   0.13 -0.47  581.403           NaN   \n",
       "2016-08-24 02:30:00  36.997361  -0.06 -0.54  581.349           NaN   \n",
       "2016-08-24 02:35:00  38.805247   0.07 -0.46  581.303           NaN   \n",
       "2016-08-24 02:40:00  41.143729   0.09 -0.39  581.264           NaN   \n",
       "2016-08-24 02:45:00  47.181644   0.25 -0.34  581.230     -0.151001   \n",
       "2016-08-24 02:50:00  38.924918  -0.48  0.02  581.232     -0.166249   \n",
       "2016-08-24 02:55:00  41.232287   0.10  0.02  581.234     -0.168325   \n",
       "2016-08-24 03:00:00  44.824049   0.16  0.14  581.248     -0.155269   \n",
       "2016-08-24 03:05:00  39.042160  -0.36 -0.17  581.231     -0.171988   \n",
       "2016-08-24 03:10:00  34.751146  -0.32 -0.42  581.189     -0.208655   \n",
       "2016-08-24 03:15:00  36.167762   0.06 -0.49  581.140     -0.230218   \n",
       "\n",
       "                     MACDh_12_26_9  MACDs_12_26_9  STOCHk_14_3_3  \\\n",
       "timestamp                                                          \n",
       "2016-08-24 00:00:00            NaN            NaN            NaN   \n",
       "2016-08-24 00:05:00            NaN            NaN            NaN   \n",
       "2016-08-24 00:10:00            NaN            NaN            NaN   \n",
       "2016-08-24 00:15:00            NaN            NaN            NaN   \n",
       "2016-08-24 00:20:00            NaN            NaN            NaN   \n",
       "2016-08-24 00:25:00            NaN            NaN            NaN   \n",
       "2016-08-24 00:30:00            NaN            NaN            NaN   \n",
       "2016-08-24 00:35:00            NaN            NaN            NaN   \n",
       "2016-08-24 00:40:00            NaN            NaN            NaN   \n",
       "2016-08-24 00:45:00            NaN            NaN            NaN   \n",
       "2016-08-24 00:50:00            NaN            NaN            NaN   \n",
       "2016-08-24 00:55:00            NaN            NaN            NaN   \n",
       "2016-08-24 01:00:00            NaN            NaN            NaN   \n",
       "2016-08-24 01:05:00            NaN            NaN            NaN   \n",
       "2016-08-24 01:10:00            NaN            NaN            NaN   \n",
       "2016-08-24 01:15:00            NaN            NaN      84.964426   \n",
       "2016-08-24 01:20:00            NaN            NaN      83.774583   \n",
       "2016-08-24 01:25:00            NaN            NaN      85.116331   \n",
       "2016-08-24 01:30:00            NaN            NaN      77.898898   \n",
       "2016-08-24 01:35:00            NaN            NaN      73.588342   \n",
       "2016-08-24 01:40:00            NaN            NaN      66.302368   \n",
       "2016-08-24 01:45:00            NaN            NaN      63.023679   \n",
       "2016-08-24 01:50:00            NaN            NaN      63.387978   \n",
       "2016-08-24 01:55:00            NaN            NaN      66.185032   \n",
       "2016-08-24 02:00:00            NaN            NaN      45.237856   \n",
       "2016-08-24 02:05:00            NaN            NaN      26.490483   \n",
       "2016-08-24 02:10:00            NaN            NaN       6.153846   \n",
       "2016-08-24 02:15:00            NaN            NaN      10.260126   \n",
       "2016-08-24 02:20:00            NaN            NaN      10.769310   \n",
       "2016-08-24 02:25:00            NaN            NaN      13.326138   \n",
       "2016-08-24 02:30:00            NaN            NaN      13.947991   \n",
       "2016-08-24 02:35:00            NaN            NaN      17.692886   \n",
       "2016-08-24 02:40:00            NaN            NaN      22.357125   \n",
       "2016-08-24 02:45:00      -0.011326      -0.139675      37.761006   \n",
       "2016-08-24 02:50:00      -0.021260      -0.144990      35.233253   \n",
       "2016-08-24 02:55:00      -0.018668      -0.149657      32.013201   \n",
       "2016-08-24 03:00:00      -0.004490      -0.150779      24.752475   \n",
       "2016-08-24 03:05:00      -0.016967      -0.155021      21.482454   \n",
       "2016-08-24 03:10:00      -0.042907      -0.165748      13.891695   \n",
       "2016-08-24 03:15:00      -0.051576      -0.178642       3.242630   \n",
       "\n",
       "                     STOCHd_14_3_3  \n",
       "timestamp                           \n",
       "2016-08-24 00:00:00            NaN  \n",
       "2016-08-24 00:05:00            NaN  \n",
       "2016-08-24 00:10:00            NaN  \n",
       "2016-08-24 00:15:00            NaN  \n",
       "2016-08-24 00:20:00            NaN  \n",
       "2016-08-24 00:25:00            NaN  \n",
       "2016-08-24 00:30:00            NaN  \n",
       "2016-08-24 00:35:00            NaN  \n",
       "2016-08-24 00:40:00            NaN  \n",
       "2016-08-24 00:45:00            NaN  \n",
       "2016-08-24 00:50:00            NaN  \n",
       "2016-08-24 00:55:00            NaN  \n",
       "2016-08-24 01:00:00            NaN  \n",
       "2016-08-24 01:05:00            NaN  \n",
       "2016-08-24 01:10:00            NaN  \n",
       "2016-08-24 01:15:00            NaN  \n",
       "2016-08-24 01:20:00            NaN  \n",
       "2016-08-24 01:25:00      84.618447  \n",
       "2016-08-24 01:30:00      82.263271  \n",
       "2016-08-24 01:35:00      78.867857  \n",
       "2016-08-24 01:40:00      72.596536  \n",
       "2016-08-24 01:45:00      67.638130  \n",
       "2016-08-24 01:50:00      64.238009  \n",
       "2016-08-24 01:55:00      64.198897  \n",
       "2016-08-24 02:00:00      58.270289  \n",
       "2016-08-24 02:05:00      45.971124  \n",
       "2016-08-24 02:10:00      25.960728  \n",
       "2016-08-24 02:15:00      14.301485  \n",
       "2016-08-24 02:20:00       9.061094  \n",
       "2016-08-24 02:25:00      11.451858  \n",
       "2016-08-24 02:30:00      12.681146  \n",
       "2016-08-24 02:35:00      14.989005  \n",
       "2016-08-24 02:40:00      17.999334  \n",
       "2016-08-24 02:45:00      25.937006  \n",
       "2016-08-24 02:50:00      31.783795  \n",
       "2016-08-24 02:55:00      35.002487  \n",
       "2016-08-24 03:00:00      30.666310  \n",
       "2016-08-24 03:05:00      26.082710  \n",
       "2016-08-24 03:10:00      20.042208  \n",
       "2016-08-24 03:15:00      12.872260  "
      ]
     },
     "execution_count": 23,
     "metadata": {},
     "output_type": "execute_result"
    }
   ],
   "source": [
    "featured_btc.head(40)"
   ]
  },
  {
   "cell_type": "markdown",
   "metadata": {},
   "source": [
    "Let's filter out the missing values."
   ]
  },
  {
   "cell_type": "code",
   "execution_count": 24,
   "metadata": {
    "scrolled": true
   },
   "outputs": [
    {
     "data": {
      "text/html": [
       "<div>\n",
       "<style scoped>\n",
       "    .dataframe tbody tr th:only-of-type {\n",
       "        vertical-align: middle;\n",
       "    }\n",
       "\n",
       "    .dataframe tbody tr th {\n",
       "        vertical-align: top;\n",
       "    }\n",
       "\n",
       "    .dataframe thead th {\n",
       "        text-align: right;\n",
       "    }\n",
       "</style>\n",
       "<table border=\"1\" class=\"dataframe\">\n",
       "  <thead>\n",
       "    <tr style=\"text-align: right;\">\n",
       "      <th></th>\n",
       "      <th>close</th>\n",
       "      <th>open</th>\n",
       "      <th>high</th>\n",
       "      <th>low</th>\n",
       "      <th>volume</th>\n",
       "      <th>ema</th>\n",
       "      <th>rsi</th>\n",
       "      <th>slope</th>\n",
       "      <th>mom</th>\n",
       "      <th>sma</th>\n",
       "      <th>MACD_12_26_9</th>\n",
       "      <th>MACDh_12_26_9</th>\n",
       "      <th>MACDs_12_26_9</th>\n",
       "      <th>STOCHk_14_3_3</th>\n",
       "      <th>STOCHd_14_3_3</th>\n",
       "    </tr>\n",
       "    <tr>\n",
       "      <th>timestamp</th>\n",
       "      <th></th>\n",
       "      <th></th>\n",
       "      <th></th>\n",
       "      <th></th>\n",
       "      <th></th>\n",
       "      <th></th>\n",
       "      <th></th>\n",
       "      <th></th>\n",
       "      <th></th>\n",
       "      <th></th>\n",
       "      <th></th>\n",
       "      <th></th>\n",
       "      <th></th>\n",
       "      <th></th>\n",
       "      <th></th>\n",
       "    </tr>\n",
       "  </thead>\n",
       "  <tbody>\n",
       "    <tr>\n",
       "      <th>2016-08-24 02:45:00</th>\n",
       "      <td>581.58</td>\n",
       "      <td>581.32</td>\n",
       "      <td>581.58</td>\n",
       "      <td>581.16</td>\n",
       "      <td>23.293620</td>\n",
       "      <td>581.371074</td>\n",
       "      <td>47.181644</td>\n",
       "      <td>0.25</td>\n",
       "      <td>-0.34</td>\n",
       "      <td>581.230</td>\n",
       "      <td>-0.151001</td>\n",
       "      <td>-0.011326</td>\n",
       "      <td>-0.139675</td>\n",
       "      <td>37.761006</td>\n",
       "      <td>25.937006</td>\n",
       "    </tr>\n",
       "    <tr>\n",
       "      <th>2016-08-24 02:50:00</th>\n",
       "      <td>581.10</td>\n",
       "      <td>581.32</td>\n",
       "      <td>581.47</td>\n",
       "      <td>581.10</td>\n",
       "      <td>2.786672</td>\n",
       "      <td>581.321788</td>\n",
       "      <td>38.924918</td>\n",
       "      <td>-0.48</td>\n",
       "      <td>0.02</td>\n",
       "      <td>581.232</td>\n",
       "      <td>-0.166249</td>\n",
       "      <td>-0.021260</td>\n",
       "      <td>-0.144990</td>\n",
       "      <td>35.233253</td>\n",
       "      <td>31.783795</td>\n",
       "    </tr>\n",
       "    <tr>\n",
       "      <th>2016-08-24 02:55:00</th>\n",
       "      <td>581.20</td>\n",
       "      <td>581.20</td>\n",
       "      <td>581.34</td>\n",
       "      <td>581.03</td>\n",
       "      <td>10.950970</td>\n",
       "      <td>581.299645</td>\n",
       "      <td>41.232287</td>\n",
       "      <td>0.10</td>\n",
       "      <td>0.02</td>\n",
       "      <td>581.234</td>\n",
       "      <td>-0.168325</td>\n",
       "      <td>-0.018668</td>\n",
       "      <td>-0.149657</td>\n",
       "      <td>32.013201</td>\n",
       "      <td>35.002487</td>\n",
       "    </tr>\n",
       "    <tr>\n",
       "      <th>2016-08-24 03:00:00</th>\n",
       "      <td>581.36</td>\n",
       "      <td>581.12</td>\n",
       "      <td>581.38</td>\n",
       "      <td>581.12</td>\n",
       "      <td>3.541770</td>\n",
       "      <td>581.310618</td>\n",
       "      <td>44.824049</td>\n",
       "      <td>0.16</td>\n",
       "      <td>0.14</td>\n",
       "      <td>581.248</td>\n",
       "      <td>-0.155269</td>\n",
       "      <td>-0.004490</td>\n",
       "      <td>-0.150779</td>\n",
       "      <td>24.752475</td>\n",
       "      <td>30.666310</td>\n",
       "    </tr>\n",
       "    <tr>\n",
       "      <th>2016-08-24 03:05:00</th>\n",
       "      <td>581.00</td>\n",
       "      <td>581.33</td>\n",
       "      <td>581.34</td>\n",
       "      <td>581.00</td>\n",
       "      <td>17.401130</td>\n",
       "      <td>581.254142</td>\n",
       "      <td>39.042160</td>\n",
       "      <td>-0.36</td>\n",
       "      <td>-0.17</td>\n",
       "      <td>581.231</td>\n",
       "      <td>-0.171988</td>\n",
       "      <td>-0.016967</td>\n",
       "      <td>-0.155021</td>\n",
       "      <td>21.482454</td>\n",
       "      <td>26.082710</td>\n",
       "    </tr>\n",
       "  </tbody>\n",
       "</table>\n",
       "</div>"
      ],
      "text/plain": [
       "                      close    open    high     low     volume         ema  \\\n",
       "timestamp                                                                    \n",
       "2016-08-24 02:45:00  581.58  581.32  581.58  581.16  23.293620  581.371074   \n",
       "2016-08-24 02:50:00  581.10  581.32  581.47  581.10   2.786672  581.321788   \n",
       "2016-08-24 02:55:00  581.20  581.20  581.34  581.03  10.950970  581.299645   \n",
       "2016-08-24 03:00:00  581.36  581.12  581.38  581.12   3.541770  581.310618   \n",
       "2016-08-24 03:05:00  581.00  581.33  581.34  581.00  17.401130  581.254142   \n",
       "\n",
       "                           rsi  slope   mom      sma  MACD_12_26_9  \\\n",
       "timestamp                                                            \n",
       "2016-08-24 02:45:00  47.181644   0.25 -0.34  581.230     -0.151001   \n",
       "2016-08-24 02:50:00  38.924918  -0.48  0.02  581.232     -0.166249   \n",
       "2016-08-24 02:55:00  41.232287   0.10  0.02  581.234     -0.168325   \n",
       "2016-08-24 03:00:00  44.824049   0.16  0.14  581.248     -0.155269   \n",
       "2016-08-24 03:05:00  39.042160  -0.36 -0.17  581.231     -0.171988   \n",
       "\n",
       "                     MACDh_12_26_9  MACDs_12_26_9  STOCHk_14_3_3  \\\n",
       "timestamp                                                          \n",
       "2016-08-24 02:45:00      -0.011326      -0.139675      37.761006   \n",
       "2016-08-24 02:50:00      -0.021260      -0.144990      35.233253   \n",
       "2016-08-24 02:55:00      -0.018668      -0.149657      32.013201   \n",
       "2016-08-24 03:00:00      -0.004490      -0.150779      24.752475   \n",
       "2016-08-24 03:05:00      -0.016967      -0.155021      21.482454   \n",
       "\n",
       "                     STOCHd_14_3_3  \n",
       "timestamp                           \n",
       "2016-08-24 02:45:00      25.937006  \n",
       "2016-08-24 02:50:00      31.783795  \n",
       "2016-08-24 02:55:00      35.002487  \n",
       "2016-08-24 03:00:00      30.666310  \n",
       "2016-08-24 03:05:00      26.082710  "
      ]
     },
     "execution_count": 24,
     "metadata": {},
     "output_type": "execute_result"
    }
   ],
   "source": [
    "featured_btc = featured_btc.dropna()\n",
    "featured_btc.head()"
   ]
  },
  {
   "cell_type": "markdown",
   "metadata": {},
   "source": [
    "Now let's explore the correlation of our new features."
   ]
  },
  {
   "cell_type": "code",
   "execution_count": 25,
   "metadata": {
    "scrolled": true
   },
   "outputs": [
    {
     "data": {
      "text/plain": [
       "<matplotlib.axes._subplots.AxesSubplot at 0x7fd499c11390>"
      ]
     },
     "execution_count": 25,
     "metadata": {},
     "output_type": "execute_result"
    },
    {
     "data": {
      "image/png": "[encoded data removed]",
      "text/plain": [
       "<Figure size 1080x720 with 2 Axes>"
      ]
     },
     "metadata": {
      "needs_background": "light"
     },
     "output_type": "display_data"
    }
   ],
   "source": [
    "# Correlation matrix\n",
    "featured_btc = featured_btc.drop(columns=['close', 'open', 'high', 'low'])\n",
    "var_corr = featured_btc.corr().abs()\n",
    "\n",
    "plt.rcParams['figure.figsize'] = [15, 10]\n",
    "sns.heatmap(var_corr, xticklabels=var_corr.columns, yticklabels=var_corr.columns, annot=True)\n",
    "\n"
   ]
  },
  {
   "cell_type": "markdown",
   "metadata": {},
   "source": [
    "We have a pretty colorful heatmap. Some features are highly correlated, while others have next to no correlation. Let's filter the highly correlated features by some threshold to improve our model's performance."
   ]
  },
  {
   "cell_type": "code",
   "execution_count": 26,
   "metadata": {},
   "outputs": [],
   "source": [
    "corr_threshold = 0.85\n",
    "upper = var_corr.where(np.triu(np.ones(var_corr.shape), k=1).astype(np.bool))\n",
    "to_drop = [column for column in upper.columns if any(upper[column] >= corr_threshold)]\n",
    "featured_btc.drop(to_drop, axis=1, inplace=True)"
   ]
  },
  {
   "cell_type": "code",
   "execution_count": 27,
   "metadata": {
    "scrolled": true
   },
   "outputs": [
    {
     "data": {
      "text/plain": [
       "<matplotlib.axes._subplots.AxesSubplot at 0x7fd49d3283c8>"
      ]
     },
     "execution_count": 27,
     "metadata": {},
     "output_type": "execute_result"
    },
    {
     "data": {
      "image/png": "[encoded data removed]",
      "text/plain": [
       "<Figure size 1080x720 with 2 Axes>"
      ]
     },
     "metadata": {
      "needs_background": "light"
     },
     "output_type": "display_data"
    }
   ],
   "source": [
    "var_corr = featured_btc.corr().abs()\n",
    "\n",
    "plt.rcParams['figure.figsize'] = [15, 10]\n",
    "sns.heatmap(var_corr, xticklabels=var_corr.columns, yticklabels=var_corr.columns, annot=True)\n"
   ]
  },
  {
   "cell_type": "markdown",
   "metadata": {},
   "source": [
    "Now we have our features, let's train our model once again and see how it performs."
   ]
  },
  {
   "cell_type": "markdown",
   "metadata": {},
   "source": [
    "### 1.4 Model application"
   ]
  },
  {
   "cell_type": "markdown",
   "metadata": {},
   "source": [
    "#### 1.4.1 RF model with updated features\n",
    "\n",
    "Let's apply once again a Random Forest algorithm to our new model and track the performance."
   ]
  },
  {
   "cell_type": "code",
   "execution_count": 28,
   "metadata": {
    "scrolled": false
   },
   "outputs": [],
   "source": [
    "X = featured_btc.loc[side_labels.index, :]"
   ]
  },
  {
   "cell_type": "code",
   "execution_count": 29,
   "metadata": {},
   "outputs": [],
   "source": [
    "# Test/train split\n",
    "X = featured_btc.loc[side_labels.index, :]\n",
    "y = side_labels['side']\n",
    "X_train, X_test, y_train, y_test = train_test_split(X, y, test_size=0.2, shuffle=False)"
   ]
  },
  {
   "cell_type": "code",
   "execution_count": 30,
   "metadata": {},
   "outputs": [
    {
     "data": {
      "text/plain": [
       "RandomForestClassifier(class_weight='balanced_subsample', criterion='entropy',\n",
       "                       max_depth=2, n_estimators=1000, random_state=0)"
      ]
     },
     "execution_count": 30,
     "metadata": {},
     "output_type": "execute_result"
    }
   ],
   "source": [
    "# Setting random forest parameters\n",
    "n_estimator = 1000\n",
    "depth = 2\n",
    "RANDOM_STATE = 0\n",
    "\n",
    "rf_featured = RandomForestClassifier(max_depth=depth, n_estimators=n_estimator,\n",
    "                            criterion='entropy', class_weight='balanced_subsample',\n",
    "                            random_state=RANDOM_STATE)\n",
    "\n",
    "# Fitting our model\n",
    "rf_featured.fit(X_train, y_train)"
   ]
  },
  {
   "cell_type": "markdown",
   "metadata": {},
   "source": [
    "##### 1.4.1.1 RF training"
   ]
  },
  {
   "cell_type": "code",
   "execution_count": 31,
   "metadata": {
    "scrolled": false
   },
   "outputs": [
    {
     "name": "stdout",
     "output_type": "stream",
     "text": [
      "              precision    recall  f1-score   support\n",
      "\n",
      "         0.0       0.52      0.51      0.52      2213\n",
      "         1.0       0.54      0.55      0.55      2327\n",
      "\n",
      "    accuracy                           0.53      4540\n",
      "   macro avg       0.53      0.53      0.53      4540\n",
      "weighted avg       0.53      0.53      0.53      4540\n",
      "\n",
      "Confusion Matrix\n",
      "[[1132 1081]\n",
      " [1047 1280]]\n",
      "\n",
      "Accuracy\n",
      "0.5312775330396475\n"
     ]
    },
    {
     "data": {
      "image/png": "[encoded data removed]",
      "text/plain": [
       "<Figure size 720x432 with 1 Axes>"
      ]
     },
     "metadata": {
      "needs_background": "light"
     },
     "output_type": "display_data"
    },
    {
     "name": "stdout",
     "output_type": "stream",
     "text": [
      "Returns:  3.0999327741585425\n"
     ]
    }
   ],
   "source": [
    "plt.rcParams['figure.figsize'] = [10, 6]\n",
    "featured_rf_metrics = performance_metrics(rf_featured, X_test, plot = True)"
   ]
  },
  {
   "cell_type": "markdown",
   "metadata": {},
   "source": [
    "The results already show an improvement in our model. Not only the accuracy has increased from 0.5035 to 0.5308, precision, recall and F1-score all improved. Let's see if changing our algorithm has any impact at all in our model."
   ]
  },
  {
   "cell_type": "markdown",
   "metadata": {},
   "source": [
    "#### 1.4.2 XGBoost"
   ]
  },
  {
   "cell_type": "code",
   "execution_count": 32,
   "metadata": {},
   "outputs": [],
   "source": [
    "from xgboost import XGBClassifier"
   ]
  },
  {
   "cell_type": "code",
   "execution_count": 33,
   "metadata": {},
   "outputs": [
    {
     "data": {
      "text/plain": [
       "XGBClassifier(base_score=0.5, booster='gbtree', colsample_bylevel=1,\n",
       "              colsample_bynode=1, colsample_bytree=1, enable_categorical=False,\n",
       "              eval_metric='mlogloss', gamma=0, gpu_id=-1, importance_type=None,\n",
       "              interaction_constraints='', learning_rate=0.300000012,\n",
       "              max_delta_step=0, max_depth=6, min_child_weight=1, missing=nan,\n",
       "              monotone_constraints='()', n_estimators=100, n_jobs=4,\n",
       "              num_parallel_tree=1, predictor='auto', random_state=0,\n",
       "              reg_alpha=0, reg_lambda=1, scale_pos_weight=1, subsample=1,\n",
       "              tree_method='exact', use_label_encoder=False,\n",
       "              validate_parameters=1, verbosity=None)"
      ]
     },
     "execution_count": 33,
     "metadata": {},
     "output_type": "execute_result"
    }
   ],
   "source": [
    "y_train = pd.DataFrame(y_train)\n",
    "xgb = XGBClassifier(use_label_encoder=False, eval_metric='mlogloss')\n",
    "xgb.fit(X_train, y_train)"
   ]
  },
  {
   "cell_type": "code",
   "execution_count": 34,
   "metadata": {},
   "outputs": [
    {
     "name": "stdout",
     "output_type": "stream",
     "text": [
      "              precision    recall  f1-score   support\n",
      "\n",
      "         0.0       0.50      0.59      0.54      2213\n",
      "         1.0       0.53      0.45      0.49      2327\n",
      "\n",
      "    accuracy                           0.52      4540\n",
      "   macro avg       0.52      0.52      0.51      4540\n",
      "weighted avg       0.52      0.52      0.51      4540\n",
      "\n",
      "Confusion Matrix\n",
      "[[1306  907]\n",
      " [1291 1036]]\n",
      "\n",
      "Accuracy\n",
      "0.5158590308370044\n"
     ]
    },
    {
     "data": {
      "image/png": "[encoded data removed]",
      "text/plain": [
       "<Figure size 720x432 with 1 Axes>"
      ]
     },
     "metadata": {
      "needs_background": "light"
     },
     "output_type": "display_data"
    },
    {
     "name": "stdout",
     "output_type": "stream",
     "text": [
      "Returns:  2.451157532195211\n"
     ]
    }
   ],
   "source": [
    "xgb_metrics = performance_metrics(xgb, X_test, plot = True)"
   ]
  },
  {
   "cell_type": "markdown",
   "metadata": {},
   "source": [
    "It seems that a XGBoost classifier gave us a worse model based on all of the metrics. This might be because of the overfitting power of the XGBoost."
   ]
  },
  {
   "cell_type": "markdown",
   "metadata": {},
   "source": [
    "### 1.5 Model comparision\n",
    "\n",
    "Let's compare all of our models at once. (Based on https://www.imranabdullah.com/2019-06-01/Drawing-multiple-ROC-Curves-in-a-single-plot)"
   ]
  },
  {
   "cell_type": "code",
   "execution_count": 35,
   "metadata": {},
   "outputs": [],
   "source": [
    "# Test/train split\n",
    "X = featured_btc.loc[side_labels.index, :]\n",
    "y = side_labels['side']\n",
    "X_train, X_test, y_train, y_test = train_test_split(X, y, test_size=0.2, shuffle=False)"
   ]
  },
  {
   "cell_type": "code",
   "execution_count": 36,
   "metadata": {
    "scrolled": false
   },
   "outputs": [
    {
     "name": "stdout",
     "output_type": "stream",
     "text": [
      "Training LogisticRegression\n",
      "Done\n",
      "\n",
      "Training GaussianNB\n",
      "Done\n",
      "\n",
      "Training KNeighborsClassifier\n",
      "Done\n",
      "\n",
      "Training RandomForestClassifier\n",
      "Done\n",
      "\n",
      "Training XGBClassifier\n",
      "Done\n",
      "\n"
     ]
    }
   ],
   "source": [
    "classifiers = [LogisticRegression(random_state=1234), \n",
    "               GaussianNB(), \n",
    "               KNeighborsClassifier(), \n",
    "               RandomForestClassifier(random_state=1234),\n",
    "               XGBClassifier(use_label_encoder=False, eval_metric='mlogloss')]\n",
    "\n",
    "result_table = pd.DataFrame(columns=['classifiers', 'fpr','tpr','class_report', 'f1''conf_matrix', 'acc', 'returns'])\n",
    "for cls in classifiers:\n",
    "    print(f'Training {cls.__class__.__name__}')\n",
    "    model = cls.fit(X_train, y_train)\n",
    "    y_proba = model.predict_proba(X_test)[::,1]\n",
    "    fpr, tpr, _ = roc_curve(y_test, y_proba)\n",
    "    class_report, f1, conf_matrix, acc, returns = performance_metrics(cls, X_test, plot = False)\n",
    "    \n",
    "    result_table = result_table.append({'classifiers':cls.__class__.__name__,\n",
    "                                        'fpr':fpr,\n",
    "                                        'tpr':tpr,\n",
    "                                        'class_report':class_report,\n",
    "                                        'f1':f1,\n",
    "                                        'conf_matrix': conf_matrix,\n",
    "                                        'acc': acc,\n",
    "                                        'returns': returns}, ignore_index=True)\n",
    "    print('Done\\n')\n",
    "result_table.set_index('classifiers', inplace=True)"
   ]
  },
  {
   "cell_type": "code",
   "execution_count": 37,
   "metadata": {},
   "outputs": [
    {
     "data": {
      "text/html": [
       "<div>\n",
       "<style scoped>\n",
       "    .dataframe tbody tr th:only-of-type {\n",
       "        vertical-align: middle;\n",
       "    }\n",
       "\n",
       "    .dataframe tbody tr th {\n",
       "        vertical-align: top;\n",
       "    }\n",
       "\n",
       "    .dataframe thead th {\n",
       "        text-align: right;\n",
       "    }\n",
       "</style>\n",
       "<table border=\"1\" class=\"dataframe\">\n",
       "  <thead>\n",
       "    <tr style=\"text-align: right;\">\n",
       "      <th></th>\n",
       "      <th>class_report</th>\n",
       "    </tr>\n",
       "    <tr>\n",
       "      <th>classifiers</th>\n",
       "      <th></th>\n",
       "    </tr>\n",
       "  </thead>\n",
       "  <tbody>\n",
       "    <tr>\n",
       "      <th>LogisticRegression</th>\n",
       "      <td>precision    recall  f1-score   ...</td>\n",
       "    </tr>\n",
       "    <tr>\n",
       "      <th>GaussianNB</th>\n",
       "      <td>precision    recall  f1-score   ...</td>\n",
       "    </tr>\n",
       "    <tr>\n",
       "      <th>KNeighborsClassifier</th>\n",
       "      <td>precision    recall  f1-score   ...</td>\n",
       "    </tr>\n",
       "    <tr>\n",
       "      <th>RandomForestClassifier</th>\n",
       "      <td>precision    recall  f1-score   ...</td>\n",
       "    </tr>\n",
       "    <tr>\n",
       "      <th>XGBClassifier</th>\n",
       "      <td>precision    recall  f1-score   ...</td>\n",
       "    </tr>\n",
       "  </tbody>\n",
       "</table>\n",
       "</div>"
      ],
      "text/plain": [
       "                                                             class_report\n",
       "classifiers                                                              \n",
       "LogisticRegression                    precision    recall  f1-score   ...\n",
       "GaussianNB                            precision    recall  f1-score   ...\n",
       "KNeighborsClassifier                  precision    recall  f1-score   ...\n",
       "RandomForestClassifier                precision    recall  f1-score   ...\n",
       "XGBClassifier                         precision    recall  f1-score   ..."
      ]
     },
     "execution_count": 37,
     "metadata": {},
     "output_type": "execute_result"
    }
   ],
   "source": [
    "pd.DataFrame(result_table['class_report'])"
   ]
  },
  {
   "cell_type": "markdown",
   "metadata": {},
   "source": [
    "ROC Curve analysis."
   ]
  },
  {
   "cell_type": "code",
   "execution_count": 38,
   "metadata": {
    "scrolled": true
   },
   "outputs": [
    {
     "data": {
      "image/png": "[encoded data removed]",
      "text/plain": [
       "<Figure size 720x432 with 1 Axes>"
      ]
     },
     "metadata": {
      "needs_background": "light"
     },
     "output_type": "display_data"
    }
   ],
   "source": [
    "fig = plt.figure(figsize=(10,6))\n",
    "\n",
    "for i in result_table.index:\n",
    "    plt.plot(result_table.loc[i]['fpr'], \n",
    "             result_table.loc[i]['tpr'], \n",
    "             label=\"{}\".format(i))\n",
    "    \n",
    "plt.plot([0,1], [0,1], color='orange', linestyle='--')\n",
    "\n",
    "plt.xticks(np.arange(0.0, 1.1, step=0.1))\n",
    "plt.xlabel(\"Flase Positive Rate\", fontsize=15)\n",
    "\n",
    "plt.yticks(np.arange(0.0, 1.1, step=0.1))\n",
    "plt.ylabel(\"True Positive Rate\", fontsize=15)\n",
    "\n",
    "plt.title('ROC Curve Analysis', fontweight='bold', fontsize=15)\n",
    "plt.legend(prop={'size':13}, loc='lower right')\n",
    "\n",
    "plt.show()"
   ]
  },
  {
   "cell_type": "code",
   "execution_count": 40,
   "metadata": {},
   "outputs": [
    {
     "data": {
      "image/png": "[encoded data removed]",
      "text/plain": [
       "<Figure size 720x432 with 1 Axes>"
      ]
     },
     "metadata": {
      "needs_background": "light"
     },
     "output_type": "display_data"
    }
   ],
   "source": [
    "fig = plt.figure(figsize=(10,6))\n",
    "\n",
    "ax = fig.add_axes([0,0,1,1])\n",
    "classifiers = result_table.index\n",
    "returns = result_table['f1']\n",
    "ax.bar(classifiers, returns)\n",
    "plt.xlabel('Classifier')\n",
    "plt.ylabel('F1-Score')\n",
    "plt.ylim(0.7)\n",
    "plt.show()"
   ]
  },
  {
   "cell_type": "code",
   "execution_count": null,
   "metadata": {
    "scrolled": true
   },
   "outputs": [],
   "source": [
    "fig = plt.figure(figsize=(10,6))\n",
    "\n",
    "ax = fig.add_axes([0,0,1,1])\n",
    "classifiers = result_table.index\n",
    "returns = result_table['returns']\n",
    "ax.bar(classifiers, returns)\n",
    "plt.xlabel('Classifier')\n",
    "plt.ylabel('Returns')\n",
    "plt.show()"
   ]
  },
  {
   "cell_type": "code",
   "execution_count": null,
   "metadata": {},
   "outputs": [],
   "source": []
  }
 ],
 "metadata": {
  "kernelspec": {
   "display_name": "Python 3",
   "language": "python",
   "name": "python3"
  },
  "language_info": {
   "codemirror_mode": {
    "name": "ipython",
    "version": 3
   },
   "file_extension": ".py",
   "mimetype": "text/x-python",
   "name": "python",
   "nbconvert_exporter": "python",
   "pygments_lexer": "ipython3",
   "version": "3.7.3"
  }
 },
 "nbformat": 4,
 "nbformat_minor": 2
}
